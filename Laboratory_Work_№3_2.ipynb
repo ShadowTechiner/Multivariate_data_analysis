{
  "nbformat": 4,
  "nbformat_minor": 0,
  "metadata": {
    "colab": {
      "name": "Lab3.ipynb",
      "provenance": [],
      "collapsed_sections": []
    },
    "kernelspec": {
      "name": "python3",
      "display_name": "Python 3"
    },
    "language_info": {
      "name": "python"
    }
  },
  "cells": [
    {
      "cell_type": "code",
      "metadata": {
        "id": "sYpaipsREvvK"
      },
      "source": [
        "!git clone https://github.com/ITMO-NSS-team/BAMT.git"
      ],
      "execution_count": null,
      "outputs": []
    },
    {
      "cell_type": "code",
      "metadata": {
        "id": "f18R3AXups-Z"
      },
      "source": [
        "import sys\n",
        "sys.path.append('/content/BAMT')"
      ],
      "execution_count": null,
      "outputs": []
    },
    {
      "cell_type": "code",
      "metadata": {
        "id": "NPSTI_fZpvtz"
      },
      "source": [
        "!pip install -r /content/BAMT/requirements.txt"
      ],
      "execution_count": null,
      "outputs": []
    },
    {
      "cell_type": "code",
      "metadata": {
        "id": "47MH_qkKH8Am"
      },
      "source": [
        "import pandas as pd\n",
        "import seaborn as sns\n",
        "\n",
        "from visualization.visualization import draw_BN\n",
        "from bayesian.sampling import generate_synthetics\n",
        "from sklearn.model_selection import train_test_split\n",
        "from bayesian.calculate_accuracy import calculate_acc\n",
        "from external.libpgm.hybayesiannetwork import HyBayesianNetwork\n",
        "from bayesian.train_bn import structure_learning, parameter_learning\n",
        "from preprocess.discretization import discretization, get_nodes_sign, get_nodes_type\n",
        "from bayesian.save_bn import save_structure, save_params, read_structure, read_params"
      ],
      "execution_count": null,
      "outputs": []
    },
    {
      "cell_type": "code",
      "metadata": {
        "id": "W-IF8_HUTtzX"
      },
      "source": [
        "import warnings\n",
        "warnings.filterwarnings('ignore')"
      ],
      "execution_count": null,
      "outputs": []
    },
    {
      "cell_type": "code",
      "metadata": {
        "id": "Yf6ctz58M1ZK"
      },
      "source": [
        "from google.colab import drive\n",
        "drive.mount('/content/drive')"
      ],
      "execution_count": null,
      "outputs": []
    },
    {
      "cell_type": "code",
      "metadata": {
        "id": "HMIKABneIAnH"
      },
      "source": [
        "lunar = pd.read_csv('/content/drive/MyDrive/Colab Notebooks/University/Multivariate/lunar_finale.csv',\n",
        "                    index_col=0)"
      ],
      "execution_count": null,
      "outputs": []
    },
    {
      "cell_type": "code",
      "metadata": {
        "colab": {
          "base_uri": "https://localhost:8080/"
        },
        "id": "rihkXNW1L8ln",
        "outputId": "3add030b-6a75-434e-97f5-3c64fdd38b07"
      },
      "source": [
        "lunar['Saros Number'].value_counts()"
      ],
      "execution_count": null,
      "outputs": [
        {
          "output_type": "execute_result",
          "data": {
            "text/plain": [
              " 65     86\n",
              " 47     86\n",
              " 45     85\n",
              " 27     85\n",
              " 26     85\n",
              "        ..\n",
              "-18      6\n",
              "-19      5\n",
              "-20      3\n",
              " 182     3\n",
              " 183     2\n",
              "Name: Saros Number, Length: 204, dtype: int64"
            ]
          },
          "metadata": {},
          "execution_count": 71
        }
      ]
    },
    {
      "cell_type": "code",
      "metadata": {
        "colab": {
          "base_uri": "https://localhost:8080/"
        },
        "id": "8HNgv7LsMPd6",
        "outputId": "3069f807-d5f7-4fea-9411-ed9d55c39425"
      },
      "source": [
        "lunar['Lunation Number'].value_counts()"
      ],
      "execution_count": null,
      "outputs": [
        {
          "output_type": "execute_result",
          "data": {
            "text/plain": [
              "-49456    1\n",
              "-8281     1\n",
              "-8322     1\n",
              "-8316     1\n",
              "-8310     1\n",
              "         ..\n",
              "-28874    1\n",
              "-28869    1\n",
              "-28863    1\n",
              "-28857    1\n",
              " 12378    1\n",
              "Name: Lunation Number, Length: 12064, dtype: int64"
            ]
          },
          "metadata": {},
          "execution_count": 108
        }
      ]
    },
    {
      "cell_type": "code",
      "metadata": {
        "colab": {
          "base_uri": "https://localhost:8080/"
        },
        "id": "JHEWAZZGy8iE",
        "outputId": "96dd23cb-b402-434c-a1d4-7a5dff4ac50f"
      },
      "source": [
        "lunar.columns"
      ],
      "execution_count": null,
      "outputs": [
        {
          "output_type": "execute_result",
          "data": {
            "text/plain": [
              "Index(['Delta T (s)', 'Lunation Number', 'Saros Number', 'Eclipse Type',\n",
              "       'Quincena Solar Eclipse', 'Gamma', 'Penumbral Magnitude',\n",
              "       'Umbral Magnitude', 'Penumbral Eclipse Duration (m)',\n",
              "       'Partial Eclipse Duration (m)', 'Total Eclipse Duration (m)',\n",
              "       'Latitude3', 'Longitude3', 'Time JD'],\n",
              "      dtype='object')"
            ]
          },
          "metadata": {},
          "execution_count": 73
        }
      ]
    },
    {
      "cell_type": "code",
      "metadata": {
        "id": "ylddGpNMT3QE"
      },
      "source": [
        "saros_value_counts = lunar['Saros Number'].value_counts()\n",
        "saros_probable = saros_value_counts.index[(saros_value_counts > 50) == True].to_list()"
      ],
      "execution_count": null,
      "outputs": []
    },
    {
      "cell_type": "code",
      "metadata": {
        "id": "n3x2W0fAUm8b"
      },
      "source": [
        "lunar_subset = lunar[lunar['Saros Number'].isin(saros_probable)]"
      ],
      "execution_count": null,
      "outputs": []
    },
    {
      "cell_type": "code",
      "metadata": {
        "id": "mbu6u8z2Tj68"
      },
      "source": [
        "lunar_subset = lunar_subset[['Saros Number', 'Eclipse Type',\n",
        "                             'Quincena Solar Eclipse', 'Gamma', 'Penumbral Magnitude',\n",
        "                             'Umbral Magnitude', 'Penumbral Eclipse Duration (m)', 'Partial Eclipse Duration (m)',\n",
        "                             'Total Eclipse Duration (m)']]"
      ],
      "execution_count": null,
      "outputs": []
    },
    {
      "cell_type": "code",
      "metadata": {
        "id": "l2QU8MsamBca"
      },
      "source": [
        "lunar_train, lunar_test = train_test_split(lunar_subset, test_size=0.3)\n",
        "lunar_target = ['Penumbral Magnitude', 'Umbral Magnitude', 'Saros Number', 'Penumbral Eclipse Duration (m)']"
      ],
      "execution_count": null,
      "outputs": []
    },
    {
      "cell_type": "markdown",
      "metadata": {
        "id": "FSk8nC9DTdCF"
      },
      "source": [
        "Correlation based structure"
      ]
    },
    {
      "cell_type": "code",
      "metadata": {
        "colab": {
          "base_uri": "https://localhost:8080/",
          "height": 664
        },
        "id": "B89maMVTTPgj",
        "outputId": "7fbc841e-f54c-441f-8b62-a20c697c03eb"
      },
      "source": [
        "lunar_corr = lunar_train.corr()\n",
        "lunar_corr"
      ],
      "execution_count": null,
      "outputs": [
        {
          "output_type": "execute_result",
          "data": {
            "text/html": [
              "<div>\n",
              "<style scoped>\n",
              "    .dataframe tbody tr th:only-of-type {\n",
              "        vertical-align: middle;\n",
              "    }\n",
              "\n",
              "    .dataframe tbody tr th {\n",
              "        vertical-align: top;\n",
              "    }\n",
              "\n",
              "    .dataframe thead th {\n",
              "        text-align: right;\n",
              "    }\n",
              "</style>\n",
              "<table border=\"1\" class=\"dataframe\">\n",
              "  <thead>\n",
              "    <tr style=\"text-align: right;\">\n",
              "      <th></th>\n",
              "      <th>Saros Number</th>\n",
              "      <th>Eclipse Type</th>\n",
              "      <th>Quincena Solar Eclipse</th>\n",
              "      <th>Gamma</th>\n",
              "      <th>Penumbral Magnitude</th>\n",
              "      <th>Umbral Magnitude</th>\n",
              "      <th>Penumbral Eclipse Duration (m)</th>\n",
              "      <th>Partial Eclipse Duration (m)</th>\n",
              "      <th>Total Eclipse Duration (m)</th>\n",
              "    </tr>\n",
              "  </thead>\n",
              "  <tbody>\n",
              "    <tr>\n",
              "      <th>Saros Number</th>\n",
              "      <td>1.000000</td>\n",
              "      <td>-0.002676</td>\n",
              "      <td>0.046701</td>\n",
              "      <td>0.018166</td>\n",
              "      <td>-0.003639</td>\n",
              "      <td>-0.003927</td>\n",
              "      <td>0.004567</td>\n",
              "      <td>-0.002671</td>\n",
              "      <td>-0.013896</td>\n",
              "    </tr>\n",
              "    <tr>\n",
              "      <th>Eclipse Type</th>\n",
              "      <td>-0.002676</td>\n",
              "      <td>1.000000</td>\n",
              "      <td>0.190123</td>\n",
              "      <td>-0.015123</td>\n",
              "      <td>0.925469</td>\n",
              "      <td>0.925722</td>\n",
              "      <td>0.820756</td>\n",
              "      <td>0.931660</td>\n",
              "      <td>0.714410</td>\n",
              "    </tr>\n",
              "    <tr>\n",
              "      <th>Quincena Solar Eclipse</th>\n",
              "      <td>0.046701</td>\n",
              "      <td>0.190123</td>\n",
              "      <td>1.000000</td>\n",
              "      <td>-0.013379</td>\n",
              "      <td>0.228195</td>\n",
              "      <td>0.202736</td>\n",
              "      <td>0.235695</td>\n",
              "      <td>0.185010</td>\n",
              "      <td>0.276018</td>\n",
              "    </tr>\n",
              "    <tr>\n",
              "      <th>Gamma</th>\n",
              "      <td>0.018166</td>\n",
              "      <td>-0.015123</td>\n",
              "      <td>-0.013379</td>\n",
              "      <td>1.000000</td>\n",
              "      <td>-0.005537</td>\n",
              "      <td>-0.004774</td>\n",
              "      <td>-0.016391</td>\n",
              "      <td>-0.002785</td>\n",
              "      <td>0.000220</td>\n",
              "    </tr>\n",
              "    <tr>\n",
              "      <th>Penumbral Magnitude</th>\n",
              "      <td>-0.003639</td>\n",
              "      <td>0.925469</td>\n",
              "      <td>0.228195</td>\n",
              "      <td>-0.005537</td>\n",
              "      <td>1.000000</td>\n",
              "      <td>0.998274</td>\n",
              "      <td>0.903578</td>\n",
              "      <td>0.952520</td>\n",
              "      <td>0.791556</td>\n",
              "    </tr>\n",
              "    <tr>\n",
              "      <th>Umbral Magnitude</th>\n",
              "      <td>-0.003927</td>\n",
              "      <td>0.925722</td>\n",
              "      <td>0.202736</td>\n",
              "      <td>-0.004774</td>\n",
              "      <td>0.998274</td>\n",
              "      <td>1.000000</td>\n",
              "      <td>0.890657</td>\n",
              "      <td>0.950547</td>\n",
              "      <td>0.791419</td>\n",
              "    </tr>\n",
              "    <tr>\n",
              "      <th>Penumbral Eclipse Duration (m)</th>\n",
              "      <td>0.004567</td>\n",
              "      <td>0.820756</td>\n",
              "      <td>0.235695</td>\n",
              "      <td>-0.016391</td>\n",
              "      <td>0.903578</td>\n",
              "      <td>0.890657</td>\n",
              "      <td>1.000000</td>\n",
              "      <td>0.855756</td>\n",
              "      <td>0.540178</td>\n",
              "    </tr>\n",
              "    <tr>\n",
              "      <th>Partial Eclipse Duration (m)</th>\n",
              "      <td>-0.002671</td>\n",
              "      <td>0.931660</td>\n",
              "      <td>0.185010</td>\n",
              "      <td>-0.002785</td>\n",
              "      <td>0.952520</td>\n",
              "      <td>0.950547</td>\n",
              "      <td>0.855756</td>\n",
              "      <td>1.000000</td>\n",
              "      <td>0.680296</td>\n",
              "    </tr>\n",
              "    <tr>\n",
              "      <th>Total Eclipse Duration (m)</th>\n",
              "      <td>-0.013896</td>\n",
              "      <td>0.714410</td>\n",
              "      <td>0.276018</td>\n",
              "      <td>0.000220</td>\n",
              "      <td>0.791556</td>\n",
              "      <td>0.791419</td>\n",
              "      <td>0.540178</td>\n",
              "      <td>0.680296</td>\n",
              "      <td>1.000000</td>\n",
              "    </tr>\n",
              "  </tbody>\n",
              "</table>\n",
              "</div>"
            ],
            "text/plain": [
              "                                Saros Number  ...  Total Eclipse Duration (m)\n",
              "Saros Number                        1.000000  ...                   -0.013896\n",
              "Eclipse Type                       -0.002676  ...                    0.714410\n",
              "Quincena Solar Eclipse              0.046701  ...                    0.276018\n",
              "Gamma                               0.018166  ...                    0.000220\n",
              "Penumbral Magnitude                -0.003639  ...                    0.791556\n",
              "Umbral Magnitude                   -0.003927  ...                    0.791419\n",
              "Penumbral Eclipse Duration (m)      0.004567  ...                    0.540178\n",
              "Partial Eclipse Duration (m)       -0.002671  ...                    0.680296\n",
              "Total Eclipse Duration (m)         -0.013896  ...                    1.000000\n",
              "\n",
              "[9 rows x 9 columns]"
            ]
          },
          "metadata": {},
          "execution_count": 10
        }
      ]
    },
    {
      "cell_type": "code",
      "metadata": {
        "colab": {
          "base_uri": "https://localhost:8080/",
          "height": 664
        },
        "id": "sBox71mHTUZa",
        "outputId": "30518d8a-6760-41d7-b9e6-dba25021f345"
      },
      "source": [
        "lunar_corr[(lunar_corr < 0.5)] = ' '\n",
        "lunar_corr"
      ],
      "execution_count": null,
      "outputs": [
        {
          "output_type": "execute_result",
          "data": {
            "text/html": [
              "<div>\n",
              "<style scoped>\n",
              "    .dataframe tbody tr th:only-of-type {\n",
              "        vertical-align: middle;\n",
              "    }\n",
              "\n",
              "    .dataframe tbody tr th {\n",
              "        vertical-align: top;\n",
              "    }\n",
              "\n",
              "    .dataframe thead th {\n",
              "        text-align: right;\n",
              "    }\n",
              "</style>\n",
              "<table border=\"1\" class=\"dataframe\">\n",
              "  <thead>\n",
              "    <tr style=\"text-align: right;\">\n",
              "      <th></th>\n",
              "      <th>Saros Number</th>\n",
              "      <th>Eclipse Type</th>\n",
              "      <th>Quincena Solar Eclipse</th>\n",
              "      <th>Gamma</th>\n",
              "      <th>Penumbral Magnitude</th>\n",
              "      <th>Umbral Magnitude</th>\n",
              "      <th>Penumbral Eclipse Duration (m)</th>\n",
              "      <th>Partial Eclipse Duration (m)</th>\n",
              "      <th>Total Eclipse Duration (m)</th>\n",
              "    </tr>\n",
              "  </thead>\n",
              "  <tbody>\n",
              "    <tr>\n",
              "      <th>Saros Number</th>\n",
              "      <td>1.0</td>\n",
              "      <td></td>\n",
              "      <td></td>\n",
              "      <td></td>\n",
              "      <td></td>\n",
              "      <td></td>\n",
              "      <td></td>\n",
              "      <td></td>\n",
              "      <td></td>\n",
              "    </tr>\n",
              "    <tr>\n",
              "      <th>Eclipse Type</th>\n",
              "      <td></td>\n",
              "      <td>1.0</td>\n",
              "      <td></td>\n",
              "      <td></td>\n",
              "      <td>0.925478</td>\n",
              "      <td>0.925515</td>\n",
              "      <td>0.820876</td>\n",
              "      <td>0.931976</td>\n",
              "      <td>0.715722</td>\n",
              "    </tr>\n",
              "    <tr>\n",
              "      <th>Quincena Solar Eclipse</th>\n",
              "      <td></td>\n",
              "      <td></td>\n",
              "      <td>1.0</td>\n",
              "      <td></td>\n",
              "      <td></td>\n",
              "      <td></td>\n",
              "      <td></td>\n",
              "      <td></td>\n",
              "      <td></td>\n",
              "    </tr>\n",
              "    <tr>\n",
              "      <th>Gamma</th>\n",
              "      <td></td>\n",
              "      <td></td>\n",
              "      <td></td>\n",
              "      <td>1.0</td>\n",
              "      <td></td>\n",
              "      <td></td>\n",
              "      <td></td>\n",
              "      <td></td>\n",
              "      <td></td>\n",
              "    </tr>\n",
              "    <tr>\n",
              "      <th>Penumbral Magnitude</th>\n",
              "      <td></td>\n",
              "      <td>0.925478</td>\n",
              "      <td></td>\n",
              "      <td></td>\n",
              "      <td>1.0</td>\n",
              "      <td>0.998278</td>\n",
              "      <td>0.902865</td>\n",
              "      <td>0.952366</td>\n",
              "      <td>0.794089</td>\n",
              "    </tr>\n",
              "    <tr>\n",
              "      <th>Umbral Magnitude</th>\n",
              "      <td></td>\n",
              "      <td>0.925515</td>\n",
              "      <td></td>\n",
              "      <td></td>\n",
              "      <td>0.998278</td>\n",
              "      <td>1.0</td>\n",
              "      <td>0.890246</td>\n",
              "      <td>0.950429</td>\n",
              "      <td>0.793771</td>\n",
              "    </tr>\n",
              "    <tr>\n",
              "      <th>Penumbral Eclipse Duration (m)</th>\n",
              "      <td></td>\n",
              "      <td>0.820876</td>\n",
              "      <td></td>\n",
              "      <td></td>\n",
              "      <td>0.902865</td>\n",
              "      <td>0.890246</td>\n",
              "      <td>1.0</td>\n",
              "      <td>0.855224</td>\n",
              "      <td>0.541892</td>\n",
              "    </tr>\n",
              "    <tr>\n",
              "      <th>Partial Eclipse Duration (m)</th>\n",
              "      <td></td>\n",
              "      <td>0.931976</td>\n",
              "      <td></td>\n",
              "      <td></td>\n",
              "      <td>0.952366</td>\n",
              "      <td>0.950429</td>\n",
              "      <td>0.855224</td>\n",
              "      <td>1.0</td>\n",
              "      <td>0.682236</td>\n",
              "    </tr>\n",
              "    <tr>\n",
              "      <th>Total Eclipse Duration (m)</th>\n",
              "      <td></td>\n",
              "      <td>0.715722</td>\n",
              "      <td></td>\n",
              "      <td></td>\n",
              "      <td>0.794089</td>\n",
              "      <td>0.793771</td>\n",
              "      <td>0.541892</td>\n",
              "      <td>0.682236</td>\n",
              "      <td>1.0</td>\n",
              "    </tr>\n",
              "  </tbody>\n",
              "</table>\n",
              "</div>"
            ],
            "text/plain": [
              "                               Saros Number  ... Total Eclipse Duration (m)\n",
              "Saros Number                            1.0  ...                           \n",
              "Eclipse Type                                 ...                   0.715722\n",
              "Quincena Solar Eclipse                       ...                           \n",
              "Gamma                                        ...                           \n",
              "Penumbral Magnitude                          ...                   0.794089\n",
              "Umbral Magnitude                             ...                   0.793771\n",
              "Penumbral Eclipse Duration (m)               ...                   0.541892\n",
              "Partial Eclipse Duration (m)                 ...                   0.682236\n",
              "Total Eclipse Duration (m)                   ...                        1.0\n",
              "\n",
              "[9 rows x 9 columns]"
            ]
          },
          "metadata": {},
          "execution_count": 82
        }
      ]
    },
    {
      "cell_type": "code",
      "metadata": {
        "colab": {
          "base_uri": "https://localhost:8080/"
        },
        "id": "bAZjCuTSRpSO",
        "outputId": "d773d26c-5aa9-47b0-a72a-3b1b22173601"
      },
      "source": [
        "nodes_type = get_nodes_type(lunar_subset)\n",
        "nodes_type"
      ],
      "execution_count": null,
      "outputs": [
        {
          "output_type": "execute_result",
          "data": {
            "text/plain": [
              "{'Saros Number': 'disc',\n",
              " 'Eclipse Type': 'disc',\n",
              " 'Quincena Solar Eclipse': 'disc',\n",
              " 'Gamma': 'cont',\n",
              " 'Penumbral Magnitude': 'cont',\n",
              " 'Umbral Magnitude': 'cont',\n",
              " 'Penumbral Eclipse Duration (m)': 'cont',\n",
              " 'Partial Eclipse Duration (m)': 'cont',\n",
              " 'Total Eclipse Duration (m)': 'cont'}"
            ]
          },
          "metadata": {},
          "execution_count": 11
        }
      ]
    },
    {
      "cell_type": "code",
      "metadata": {
        "colab": {
          "base_uri": "https://localhost:8080/"
        },
        "id": "AoYmNc8fSqsj",
        "outputId": "fce26531-6be5-45d3-f76b-5b4d78b46a1a"
      },
      "source": [
        "nodes_sign = get_nodes_sign(lunar_subset)\n",
        "nodes_sign"
      ],
      "execution_count": null,
      "outputs": [
        {
          "output_type": "execute_result",
          "data": {
            "text/plain": [
              "{'Gamma': 'neg',\n",
              " 'Penumbral Magnitude': 'pos',\n",
              " 'Umbral Magnitude': 'neg',\n",
              " 'Penumbral Eclipse Duration (m)': 'pos',\n",
              " 'Partial Eclipse Duration (m)': 'pos',\n",
              " 'Total Eclipse Duration (m)': 'pos'}"
            ]
          },
          "metadata": {},
          "execution_count": 12
        }
      ]
    },
    {
      "cell_type": "code",
      "metadata": {
        "id": "yArmwiZMaxRv"
      },
      "source": [
        "discrete_data, coder = discretization(lunar_train, 'equal_frequency', list(nodes_sign.keys()))"
      ],
      "execution_count": null,
      "outputs": []
    },
    {
      "cell_type": "code",
      "metadata": {
        "id": "3hBBWHgoTugp"
      },
      "source": [
        "bn = {'V': lunar_subset.columns.to_list(),\n",
        "      'E': [['Penumbral Magnitude', 'Eclipse Type'],\n",
        "            ['Umbral Magnitude', 'Eclipse Type'],\n",
        "            ['Partial Eclipse Duration (m)', 'Eclipse Type'],\n",
        "            ['Penumbral Eclipse Duration (m)', 'Eclipse Type'],\n",
        "            ['Total Eclipse Duration (m)', 'Eclipse Type'],\n",
        "            ['Umbral Magnitude', 'Penumbral Magnitude'],\n",
        "            ['Penumbral Eclipse Duration (m)', 'Penumbral Magnitude'],\n",
        "            ['Partial Eclipse Duration (m)', 'Penumbral Magnitude'],\n",
        "            ['Total Eclipse Duration (m)', 'Penumbral Magnitude'],\n",
        "            ['Penumbral Eclipse Duration (m)', 'Umbral Magnitude'],\n",
        "            ['Partial Eclipse Duration (m)', 'Umbral Magnitude'],\n",
        "            ['Total Eclipse Duration (m)', 'Umbral Magnitude'],\n",
        "            ['Partial Eclipse Duration (m)', 'Penumbral Eclipse Duration (m)'],\n",
        "            ['Total Eclipse Duration (m)', 'Penumbral Eclipse Duration (m)'],\n",
        "            ['Total Eclipse Duration (m)', 'Partial Eclipse Duration (m)']]}"
      ],
      "execution_count": null,
      "outputs": []
    },
    {
      "cell_type": "code",
      "metadata": {
        "id": "4Vu1Js8Chsxu"
      },
      "source": [
        "lunar_train['Eclipse Type'] = lunar_train['Eclipse Type'].astype('str')\n",
        "lunar_train['Saros Number'] = lunar_train['Saros Number'].astype('str')\n",
        "lunar_train['Quincena Solar Eclipse'] = lunar_train['Quincena Solar Eclipse'].astype('str')\n",
        "lunar_test['Eclipse Type'] = lunar_test['Eclipse Type'].astype('str')\n",
        "lunar_test['Saros Number'] = lunar_test['Saros Number'].astype('str')\n",
        "lunar_test['Quincena Solar Eclipse'] = lunar_test['Quincena Solar Eclipse'].astype('str')"
      ],
      "execution_count": null,
      "outputs": []
    },
    {
      "cell_type": "code",
      "metadata": {
        "id": "9S9Nx7aIZva1"
      },
      "source": [
        "draw_BN(bn, nodes_type, 'eslipse_bn_hc_k2')"
      ],
      "execution_count": null,
      "outputs": []
    },
    {
      "cell_type": "code",
      "metadata": {
        "id": "6zMBey_ug5CK"
      },
      "source": [
        "params = parameter_learning(lunar_train, nodes_type, bn, 'simple')\n",
        "save_structure(bn, 'bayes_structure_correlation')\n",
        "skel = read_structure('bayes_structure_correlation')"
      ],
      "execution_count": null,
      "outputs": []
    },
    {
      "cell_type": "code",
      "metadata": {
        "id": "0jQOLC5jhSy1"
      },
      "source": [
        "save_params(params, 'bayes_params_correlation')\n",
        "params = read_params('bayes_params_correlation')"
      ],
      "execution_count": null,
      "outputs": []
    },
    {
      "cell_type": "code",
      "metadata": {
        "id": "3m3fiVcbg5CK"
      },
      "source": [
        "bayes_correlation = HyBayesianNetwork(skel, params)"
      ],
      "execution_count": null,
      "outputs": []
    },
    {
      "cell_type": "code",
      "metadata": {
        "id": "vQBT0i73g5CK"
      },
      "source": [
        "synth_df = generate_synthetics(bayes_correlation, nodes_sign, 'simple', 1000)"
      ],
      "execution_count": null,
      "outputs": []
    },
    {
      "cell_type": "code",
      "metadata": {
        "colab": {
          "base_uri": "https://localhost:8080/",
          "height": 297
        },
        "id": "-91qbF8Bg5CK",
        "outputId": "db1863dc-abf5-4860-d4fb-f576a90296ed"
      },
      "source": [
        "sns.distplot(lunar_subset['Penumbral Magnitude'])\n",
        "sns.distplot(synth_df['Penumbral Magnitude'])"
      ],
      "execution_count": null,
      "outputs": [
        {
          "output_type": "execute_result",
          "data": {
            "text/plain": [
              "<AxesSubplot:xlabel='Penumbral Magnitude', ylabel='Density'>"
            ]
          },
          "metadata": {},
          "execution_count": 99
        },
        {
          "output_type": "display_data",
          "data": {
            "image/png": "[encoded data removed]",
            "text/plain": [
              "<Figure size 432x288 with 1 Axes>"
            ]
          },
          "metadata": {
            "needs_background": "light"
          }
        }
      ]
    },
    {
      "cell_type": "code",
      "metadata": {
        "colab": {
          "base_uri": "https://localhost:8080/",
          "height": 297
        },
        "id": "i8TikMv9g5CL",
        "outputId": "662baa60-b956-498a-b591-656d629a4227"
      },
      "source": [
        "sns.distplot(lunar_subset['Umbral Magnitude'])\n",
        "sns.distplot(synth_df['Umbral Magnitude'])"
      ],
      "execution_count": null,
      "outputs": [
        {
          "output_type": "execute_result",
          "data": {
            "text/plain": [
              "<AxesSubplot:xlabel='Umbral Magnitude', ylabel='Density'>"
            ]
          },
          "metadata": {},
          "execution_count": 100
        },
        {
          "output_type": "display_data",
          "data": {
            "image/png": "[encoded data removed]",
            "text/plain": [
              "<Figure size 432x288 with 1 Axes>"
            ]
          },
          "metadata": {
            "needs_background": "light"
          }
        }
      ]
    },
    {
      "cell_type": "code",
      "metadata": {
        "colab": {
          "base_uri": "https://localhost:8080/",
          "height": 297
        },
        "id": "S5r2jy2Zg5CL",
        "outputId": "a7913506-3c34-4e60-afaf-3d1db40dff04"
      },
      "source": [
        "sns.distplot(lunar_subset['Saros Number'])\n",
        "sns.distplot(synth_df['Saros Number'])"
      ],
      "execution_count": null,
      "outputs": [
        {
          "output_type": "execute_result",
          "data": {
            "text/plain": [
              "<AxesSubplot:xlabel='Saros Number', ylabel='Density'>"
            ]
          },
          "metadata": {},
          "execution_count": 101
        },
        {
          "output_type": "display_data",
          "data": {
            "image/png": "[encoded data removed]",
            "text/plain": [
              "<Figure size 432x288 with 1 Axes>"
            ]
          },
          "metadata": {
            "needs_background": "light"
          }
        }
      ]
    },
    {
      "cell_type": "code",
      "metadata": {
        "colab": {
          "base_uri": "https://localhost:8080/",
          "height": 297
        },
        "id": "IDdZA00m0ry0",
        "outputId": "47fad7e5-fd55-4bf5-f1aa-3bc40a26b04c"
      },
      "source": [
        "sns.distplot(lunar_subset['Penumbral Eclipse Duration (m)'])\n",
        "sns.distplot(synth_df['Penumbral Eclipse Duration (m)']) "
      ],
      "execution_count": null,
      "outputs": [
        {
          "output_type": "execute_result",
          "data": {
            "text/plain": [
              "<AxesSubplot:xlabel='Penumbral Eclipse Duration (m)', ylabel='Density'>"
            ]
          },
          "metadata": {},
          "execution_count": 104
        },
        {
          "output_type": "display_data",
          "data": {
            "image/png": "[encoded data removed]",
            "text/plain": [
              "<Figure size 432x288 with 1 Axes>"
            ]
          },
          "metadata": {
            "needs_background": "light"
          }
        }
      ]
    },
    {
      "cell_type": "code",
      "metadata": {
        "id": "OcgUhO37k_UO"
      },
      "source": [
        "accuracy = calculate_acc(bayes_correlation, lunar_test, lunar_target, 'simple')"
      ],
      "execution_count": null,
      "outputs": []
    },
    {
      "cell_type": "code",
      "metadata": {
        "colab": {
          "base_uri": "https://localhost:8080/"
        },
        "id": "fPG82fFb03k6",
        "outputId": "3b4044fe-aaff-4e24-f25b-4de8a1bf0d52"
      },
      "source": [
        "accuracy[:2]"
      ],
      "execution_count": null,
      "outputs": [
        {
          "output_type": "execute_result",
          "data": {
            "text/plain": [
              "({'Saros Number': 0.0},\n",
              " {'Penumbral Magnitude': 0.027,\n",
              "  'Umbral Magnitude': 0.136,\n",
              "  'Penumbral Eclipse Duration (m)': 40.755})"
            ]
          },
          "metadata": {},
          "execution_count": 107
        }
      ]
    },
    {
      "cell_type": "markdown",
      "metadata": {
        "id": "BVd_YfhSPjnB"
      },
      "source": [
        "Hill-climbing + K2"
      ]
    },
    {
      "cell_type": "code",
      "metadata": {
        "id": "TI2Pj3T_lLgt"
      },
      "source": [
        "bn = structure_learning(discrete_data, 'HC', nodes_type, 'K2')"
      ],
      "execution_count": null,
      "outputs": []
    },
    {
      "cell_type": "code",
      "metadata": {
        "colab": {
          "base_uri": "https://localhost:8080/"
        },
        "id": "ms2I11zTWYNW",
        "outputId": "e93e02b3-930b-483a-ffc2-d7e5d8a49d87"
      },
      "source": [
        "bn"
      ],
      "execution_count": null,
      "outputs": [
        {
          "output_type": "execute_result",
          "data": {
            "text/plain": [
              "{'V': ['Saros Number',\n",
              "  'Eclipse Type',\n",
              "  'Quincena Solar Eclipse',\n",
              "  'Gamma',\n",
              "  'Penumbral Magnitude',\n",
              "  'Umbral Magnitude',\n",
              "  'Penumbral Eclipse Duration (m)',\n",
              "  'Partial Eclipse Duration (m)',\n",
              "  'Total Eclipse Duration (m)'],\n",
              " 'E': [['Eclipse Type', 'Partial Eclipse Duration (m)'],\n",
              "  ['Eclipse Type', 'Quincena Solar Eclipse'],\n",
              "  ['Eclipse Type', 'Penumbral Magnitude'],\n",
              "  ['Eclipse Type', 'Saros Number'],\n",
              "  ['Eclipse Type', 'Umbral Magnitude'],\n",
              "  ['Eclipse Type', 'Penumbral Eclipse Duration (m)'],\n",
              "  ['Quincena Solar Eclipse', 'Saros Number'],\n",
              "  ['Quincena Solar Eclipse', 'Penumbral Eclipse Duration (m)'],\n",
              "  ['Quincena Solar Eclipse', 'Partial Eclipse Duration (m)'],\n",
              "  ['Gamma', 'Total Eclipse Duration (m)'],\n",
              "  ['Penumbral Magnitude', 'Umbral Magnitude'],\n",
              "  ['Penumbral Magnitude', 'Gamma'],\n",
              "  ['Penumbral Magnitude', 'Penumbral Eclipse Duration (m)'],\n",
              "  ['Umbral Magnitude', 'Gamma'],\n",
              "  ['Partial Eclipse Duration (m)', 'Penumbral Magnitude'],\n",
              "  ['Partial Eclipse Duration (m)', 'Umbral Magnitude'],\n",
              "  ['Partial Eclipse Duration (m)', 'Penumbral Eclipse Duration (m)']]}"
            ]
          },
          "metadata": {},
          "execution_count": 16
        }
      ]
    },
    {
      "cell_type": "code",
      "metadata": {
        "id": "5ufksblhLcqu"
      },
      "source": [
        "draw_BN(bn, nodes_type, 'eslipse_bn_hc_k2')  "
      ],
      "execution_count": null,
      "outputs": []
    },
    {
      "cell_type": "code",
      "metadata": {
        "id": "ur4r2jGzSU7s"
      },
      "source": [
        "params = parameter_learning(lunar_train, nodes_type, bn, 'simple')\n",
        "save_structure(bn, 'bayes_structure_hc_k2')\n",
        "skel = read_structure('bayes_structure_hc_k2')"
      ],
      "execution_count": null,
      "outputs": []
    },
    {
      "cell_type": "code",
      "metadata": {
        "id": "kQruf7sqSZOa"
      },
      "source": [
        "save_params(params, 'bayes_params_hc_k2')\n",
        "params = read_params('bayes_params_hc_k2')"
      ],
      "execution_count": null,
      "outputs": []
    },
    {
      "cell_type": "code",
      "metadata": {
        "id": "bz19-oHHuXqm"
      },
      "source": [
        "bayes_hc_k2 = HyBayesianNetwork(skel, params)"
      ],
      "execution_count": null,
      "outputs": []
    },
    {
      "cell_type": "code",
      "metadata": {
        "id": "U-TmwIFxQgWG"
      },
      "source": [
        "synth_df = generate_synthetics(bayes_hc_k2, nodes_sign, 'simple', 1000)"
      ],
      "execution_count": null,
      "outputs": []
    },
    {
      "cell_type": "code",
      "metadata": {
        "colab": {
          "base_uri": "https://localhost:8080/",
          "height": 297
        },
        "id": "Tm6aNpTXeGWR",
        "outputId": "968b72ce-f839-43ac-c742-f2ae02c51a73"
      },
      "source": [
        "sns.distplot(lunar_train['Penumbral Magnitude'])\n",
        "sns.distplot(synth_df['Penumbral Magnitude'])"
      ],
      "execution_count": null,
      "outputs": [
        {
          "output_type": "execute_result",
          "data": {
            "text/plain": [
              "<AxesSubplot:xlabel='Penumbral Magnitude', ylabel='Density'>"
            ]
          },
          "metadata": {},
          "execution_count": 26
        },
        {
          "output_type": "display_data",
          "data": {
            "image/png": "[encoded data removed]",
            "text/plain": [
              "<Figure size 432x288 with 1 Axes>"
            ]
          },
          "metadata": {
            "needs_background": "light"
          }
        }
      ]
    },
    {
      "cell_type": "code",
      "metadata": {
        "colab": {
          "base_uri": "https://localhost:8080/",
          "height": 297
        },
        "id": "UP54d2nwd1rQ",
        "outputId": "74fee82e-31fc-4c45-ec9b-07f9462622c4"
      },
      "source": [
        "sns.distplot(lunar_train['Umbral Magnitude'])\n",
        "sns.distplot(synth_df['Umbral Magnitude'])"
      ],
      "execution_count": null,
      "outputs": [
        {
          "output_type": "execute_result",
          "data": {
            "text/plain": [
              "<AxesSubplot:xlabel='Umbral Magnitude', ylabel='Density'>"
            ]
          },
          "metadata": {},
          "execution_count": 22
        },
        {
          "output_type": "display_data",
          "data": {
            "image/png": "[encoded data removed]",
            "text/plain": [
              "<Figure size 432x288 with 1 Axes>"
            ]
          },
          "metadata": {
            "needs_background": "light"
          }
        }
      ]
    },
    {
      "cell_type": "code",
      "metadata": {
        "colab": {
          "base_uri": "https://localhost:8080/",
          "height": 297
        },
        "id": "olbKJygsd1rQ",
        "outputId": "d36f2fd1-a7b9-4265-8018-bfef809c0c1c"
      },
      "source": [
        "sns.distplot(lunar_train['Saros Number'])\n",
        "sns.distplot(synth_df['Saros Number'])"
      ],
      "execution_count": null,
      "outputs": [
        {
          "output_type": "execute_result",
          "data": {
            "text/plain": [
              "<AxesSubplot:xlabel='Saros Number', ylabel='Density'>"
            ]
          },
          "metadata": {},
          "execution_count": 23
        },
        {
          "output_type": "display_data",
          "data": {
            "image/png": "[encoded data removed]",
            "text/plain": [
              "<Figure size 432x288 with 1 Axes>"
            ]
          },
          "metadata": {
            "needs_background": "light"
          }
        }
      ]
    },
    {
      "cell_type": "code",
      "metadata": {
        "colab": {
          "base_uri": "https://localhost:8080/",
          "height": 297
        },
        "id": "r1u1u2Odd1rQ",
        "outputId": "57b8e520-cbee-4ae0-873d-9f5c93edcf11"
      },
      "source": [
        "sns.distplot(lunar_train['Penumbral Eclipse Duration (m)'])\n",
        "sns.distplot(synth_df['Penumbral Eclipse Duration (m)']) "
      ],
      "execution_count": null,
      "outputs": [
        {
          "output_type": "execute_result",
          "data": {
            "text/plain": [
              "<AxesSubplot:xlabel='Penumbral Eclipse Duration (m)', ylabel='Density'>"
            ]
          },
          "metadata": {},
          "execution_count": 24
        },
        {
          "output_type": "display_data",
          "data": {
            "image/png": "[encoded data removed]",
            "text/plain": [
              "<Figure size 432x288 with 1 Axes>"
            ]
          },
          "metadata": {
            "needs_background": "light"
          }
        }
      ]
    },
    {
      "cell_type": "code",
      "metadata": {
        "id": "rszgkhEsveVs"
      },
      "source": [
        "accuracy = calculate_acc(bayes_hc_k2, lunar_test, lunar_target, 'simple')"
      ],
      "execution_count": null,
      "outputs": []
    },
    {
      "cell_type": "code",
      "metadata": {
        "colab": {
          "base_uri": "https://localhost:8080/"
        },
        "id": "CW4WDQtXbxOs",
        "outputId": "64446b6d-6d58-4d03-a464-9cf0f467fd1c"
      },
      "source": [
        "print(accuracy[:2])"
      ],
      "execution_count": null,
      "outputs": [
        {
          "output_type": "stream",
          "name": "stdout",
          "text": [
            "({'Saros Number': 0.03}, {'Penumbral Magnitude': 0.172, 'Umbral Magnitude': 0.041, 'Penumbral Eclipse Duration (m)': 8.801})\n"
          ]
        }
      ]
    },
    {
      "cell_type": "markdown",
      "metadata": {
        "id": "i4wCDsyrbket"
      },
      "source": [
        "Evo + MI"
      ]
    },
    {
      "cell_type": "code",
      "metadata": {
        "colab": {
          "base_uri": "https://localhost:8080/"
        },
        "id": "w0lddnpNbkev",
        "outputId": "23bb5c48-2b9d-4be0-fc90-56051dbe83cd"
      },
      "source": [
        "bn = structure_learning(discrete_data, 'evo', nodes_type, 'MI')"
      ],
      "execution_count": null,
      "outputs": [
        {
          "output_type": "stream",
          "name": "stdout",
          "text": [
            "Best metric is 12.319700000000001\n",
            "Generation num: 0\n",
            "max_depth: 6, no improvements: 0\n",
            "spent time: 0.2 min\n",
            "Best metric is 12.319700000000001\n",
            "Generation num: 1\n",
            "max_depth: 6, no improvements: 1\n",
            "spent time: 0.5 min\n",
            "Best metric is 11.4627\n",
            "Generation num: 2\n",
            "max_depth: 6, no improvements: 0\n",
            "spent time: 0.6 min\n",
            "Best metric is 11.4292\n",
            "Generation num: 3\n",
            "max_depth: 6, no improvements: 0\n",
            "spent time: 0.8 min\n",
            "Best metric is 11.023599999999998\n",
            "Generation num: 4\n",
            "max_depth: 6, no improvements: 0\n",
            "spent time: 1.0 min\n",
            "Best metric is 10.936999999999998\n",
            "Generation num: 5\n",
            "max_depth: 6, no improvements: 0\n",
            "spent time: 1.2 min\n",
            "Best metric is 10.924399999999999\n",
            "Generation num: 6\n",
            "max_depth: 6, no improvements: 0\n",
            "spent time: 1.3 min\n",
            "Best metric is 10.838799999999999\n",
            "Generation num: 7\n",
            "max_depth: 6, no improvements: 0\n",
            "spent time: 1.6 min\n",
            "Best metric is 10.808\n",
            "Generation num: 8\n",
            "max_depth: 6, no improvements: 0\n",
            "spent time: 1.7 min\n",
            "Best metric is 10.7745\n",
            "Generation num: 9\n",
            "max_depth: 6, no improvements: 0\n",
            "spent time: 2.0 min\n",
            "Best metric is 10.7654\n",
            "Generation num: 10\n",
            "max_depth: 6, no improvements: 0\n",
            "spent time: 2.2 min\n",
            "Best metric is 10.7654\n",
            "Generation num: 11\n",
            "max_depth: 6, no improvements: 1\n",
            "spent time: 2.3 min\n",
            "Best metric is 10.611\n",
            "Generation num: 12\n",
            "max_depth: 6, no improvements: 0\n",
            "spent time: 2.6 min\n",
            "Best metric is 10.6029\n",
            "Generation num: 13\n",
            "max_depth: 6, no improvements: 0\n",
            "spent time: 2.8 min\n",
            "Best metric is 10.6029\n",
            "Result:\n",
            "Best metric is 10.6029\n",
            "Composition time: 2.78 min\n"
          ]
        }
      ]
    },
    {
      "cell_type": "code",
      "metadata": {
        "colab": {
          "base_uri": "https://localhost:8080/"
        },
        "id": "oQQO3z7Bbkev",
        "outputId": "8cea907c-b00f-483d-8f41-d07f7bfecbb1"
      },
      "source": [
        "bn"
      ],
      "execution_count": null,
      "outputs": [
        {
          "output_type": "execute_result",
          "data": {
            "text/plain": [
              "{'V': ['Saros Number',\n",
              "  'Eclipse Type',\n",
              "  'Quincena Solar Eclipse',\n",
              "  'Gamma',\n",
              "  'Penumbral Magnitude',\n",
              "  'Umbral Magnitude',\n",
              "  'Penumbral Eclipse Duration (m)',\n",
              "  'Partial Eclipse Duration (m)',\n",
              "  'Total Eclipse Duration (m)'],\n",
              " 'E': [['Gamma', 'Penumbral Eclipse Duration (m)'],\n",
              "  ['Umbral Magnitude', 'Gamma'],\n",
              "  ['Total Eclipse Duration (m)', 'Gamma'],\n",
              "  ['Total Eclipse Duration (m)', 'Partial Eclipse Duration (m)'],\n",
              "  ['Partial Eclipse Duration (m)', 'Penumbral Eclipse Duration (m)'],\n",
              "  ['Partial Eclipse Duration (m)', 'Penumbral Magnitude'],\n",
              "  ['Saros Number', 'Gamma'],\n",
              "  ['Saros Number', 'Penumbral Magnitude'],\n",
              "  ['Saros Number', 'Partial Eclipse Duration (m)'],\n",
              "  ['Eclipse Type', 'Penumbral Magnitude'],\n",
              "  ['Eclipse Type', 'Partial Eclipse Duration (m)'],\n",
              "  ['Quincena Solar Eclipse', 'Penumbral Eclipse Duration (m)'],\n",
              "  ['Quincena Solar Eclipse', 'Gamma'],\n",
              "  ['Quincena Solar Eclipse', 'Penumbral Magnitude'],\n",
              "  ['Quincena Solar Eclipse', 'Partial Eclipse Duration (m)']]}"
            ]
          },
          "metadata": {},
          "execution_count": 31
        }
      ]
    },
    {
      "cell_type": "code",
      "metadata": {
        "id": "SrFODmdNbkex"
      },
      "source": [
        "draw_BN(bn, nodes_type, 'eslipse_bn_evo_mi')"
      ],
      "execution_count": null,
      "outputs": []
    },
    {
      "cell_type": "code",
      "metadata": {
        "id": "IRKtNkwGbkex"
      },
      "source": [
        "params = parameter_learning(lunar_train, nodes_type, bn, 'simple')\n",
        "save_structure(bn, 'bayes_structure_evo_mi')\n",
        "skel = read_structure('bayes_structure_evo_mi')"
      ],
      "execution_count": null,
      "outputs": []
    },
    {
      "cell_type": "code",
      "metadata": {
        "id": "Hckg46D2bkey"
      },
      "source": [
        "save_params(params, 'bayes_params_evo_mi')\n",
        "params = read_params('bayes_params_evo_mi')"
      ],
      "execution_count": null,
      "outputs": []
    },
    {
      "cell_type": "code",
      "metadata": {
        "id": "-9zRh9Pqbkey"
      },
      "source": [
        "bayes_evo_mi = HyBayesianNetwork(skel, params)"
      ],
      "execution_count": null,
      "outputs": []
    },
    {
      "cell_type": "code",
      "metadata": {
        "id": "8W9yFi9hbkez"
      },
      "source": [
        "synth_df = generate_synthetics(bayes_evo_mi, nodes_sign, 'simple', 1000)"
      ],
      "execution_count": null,
      "outputs": []
    },
    {
      "cell_type": "code",
      "metadata": {
        "colab": {
          "base_uri": "https://localhost:8080/",
          "height": 297
        },
        "id": "geIloiu3Rqt8",
        "outputId": "69e28022-eeeb-4fd5-f4db-c15275f58a38"
      },
      "source": [
        "sns.distplot(lunar_train['Penumbral Magnitude'])\n",
        "sns.distplot(synth_df['Penumbral Magnitude'])"
      ],
      "execution_count": null,
      "outputs": [
        {
          "output_type": "execute_result",
          "data": {
            "text/plain": [
              "<AxesSubplot:xlabel='Penumbral Magnitude', ylabel='Density'>"
            ]
          },
          "metadata": {},
          "execution_count": 37
        },
        {
          "output_type": "display_data",
          "data": {
            "image/png": "[encoded data removed]",
            "text/plain": [
              "<Figure size 432x288 with 1 Axes>"
            ]
          },
          "metadata": {
            "needs_background": "light"
          }
        }
      ]
    },
    {
      "cell_type": "code",
      "metadata": {
        "colab": {
          "base_uri": "https://localhost:8080/",
          "height": 297
        },
        "id": "KWRjFkdlRqt8",
        "outputId": "049b7253-1c71-4774-a24b-d97c6466f4dd"
      },
      "source": [
        "sns.distplot(lunar_train['Umbral Magnitude'])\n",
        "sns.distplot(synth_df['Umbral Magnitude'])"
      ],
      "execution_count": null,
      "outputs": [
        {
          "output_type": "execute_result",
          "data": {
            "text/plain": [
              "<AxesSubplot:xlabel='Umbral Magnitude', ylabel='Density'>"
            ]
          },
          "metadata": {},
          "execution_count": 39
        },
        {
          "output_type": "display_data",
          "data": {
            "image/png": "[encoded data removed]",
            "text/plain": [
              "<Figure size 432x288 with 1 Axes>"
            ]
          },
          "metadata": {
            "needs_background": "light"
          }
        }
      ]
    },
    {
      "cell_type": "code",
      "metadata": {
        "colab": {
          "base_uri": "https://localhost:8080/",
          "height": 297
        },
        "id": "dVbxp7OLRqt8",
        "outputId": "3d60057a-2657-4ab0-c326-ed4a3a6475b3"
      },
      "source": [
        "sns.distplot(lunar_train['Saros Number'])\n",
        "sns.distplot(synth_df['Saros Number'])"
      ],
      "execution_count": null,
      "outputs": [
        {
          "output_type": "execute_result",
          "data": {
            "text/plain": [
              "<AxesSubplot:xlabel='Saros Number', ylabel='Density'>"
            ]
          },
          "metadata": {},
          "execution_count": 40
        },
        {
          "output_type": "display_data",
          "data": {
            "image/png": "[encoded data removed]",
            "text/plain": [
              "<Figure size 432x288 with 1 Axes>"
            ]
          },
          "metadata": {
            "needs_background": "light"
          }
        }
      ]
    },
    {
      "cell_type": "code",
      "metadata": {
        "colab": {
          "base_uri": "https://localhost:8080/",
          "height": 297
        },
        "id": "h4WQpgJzRqt8",
        "outputId": "dc35ca5f-2ed7-4409-8ceb-08a0489d6576"
      },
      "source": [
        "sns.distplot(lunar_train['Penumbral Eclipse Duration (m)'])\n",
        "sns.distplot(synth_df['Penumbral Eclipse Duration (m)'])"
      ],
      "execution_count": null,
      "outputs": [
        {
          "output_type": "execute_result",
          "data": {
            "text/plain": [
              "<AxesSubplot:xlabel='Penumbral Eclipse Duration (m)', ylabel='Density'>"
            ]
          },
          "metadata": {},
          "execution_count": 41
        },
        {
          "output_type": "display_data",
          "data": {
            "image/png": "[encoded data removed]",
            "text/plain": [
              "<Figure size 432x288 with 1 Axes>"
            ]
          },
          "metadata": {
            "needs_background": "light"
          }
        }
      ]
    },
    {
      "cell_type": "code",
      "metadata": {
        "id": "gcsq8YlWbke2"
      },
      "source": [
        "accuracy = calculate_acc(bayes_evo_mi, lunar_test, lunar_target, 'simple')"
      ],
      "execution_count": null,
      "outputs": []
    },
    {
      "cell_type": "code",
      "metadata": {
        "colab": {
          "base_uri": "https://localhost:8080/"
        },
        "id": "gpXcMB206hi8",
        "outputId": "224411a8-39a6-4e75-e804-91bfe357651d"
      },
      "source": [
        "accuracy[:2] "
      ],
      "execution_count": null,
      "outputs": [
        {
          "output_type": "execute_result",
          "data": {
            "text/plain": [
              "({'Saros Number': 0.01},\n",
              " {'Penumbral Magnitude': 0.167,\n",
              "  'Umbral Magnitude': 0.838,\n",
              "  'Penumbral Eclipse Duration (m)': 39.342})"
            ]
          },
          "metadata": {},
          "execution_count": 43
        }
      ]
    },
    {
      "cell_type": "code",
      "metadata": {
        "id": "70-bE8c0CGbi"
      },
      "source": [
        ""
      ],
      "execution_count": null,
      "outputs": []
    }
  ]
}