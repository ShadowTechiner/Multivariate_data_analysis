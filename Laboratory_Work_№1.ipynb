{
  "nbformat": 4,
  "nbformat_minor": 0,
  "metadata": {
    "kernelspec": {
      "language": "python",
      "display_name": "Python 3",
      "name": "python3"
    },
    "language_info": {
      "name": "python",
      "version": "3.7.10",
      "mimetype": "text/x-python",
      "codemirror_mode": {
        "name": "ipython",
        "version": 3
      },
      "pygments_lexer": "ipython3",
      "nbconvert_exporter": "python",
      "file_extension": ".py"
    },
    "colab": {
      "name": "Lab1.ipynb",
      "provenance": [],
      "collapsed_sections": []
    }
  },
  "cells": [
    {
      "cell_type": "code",
      "metadata": {
        "_uuid": "8f2839f25d086af736a60e9eeb907d3b93b6e0e5",
        "_cell_guid": "b1076dfc-b9ad-4769-8c92-a6c4dae69d19",
        "execution": {
          "iopub.status.busy": "2021-11-06T16:07:28.377161Z",
          "iopub.execute_input": "2021-11-06T16:07:28.377761Z",
          "iopub.status.idle": "2021-11-06T16:07:29.337293Z",
          "shell.execute_reply.started": "2021-11-06T16:07:28.377664Z",
          "shell.execute_reply": "2021-11-06T16:07:29.336443Z"
        },
        "trusted": true,
        "id": "Xu0j7JrLBn1B"
      },
      "source": [
        "import scipy\n",
        "import numpy as np\n",
        "import pandas as pd\n",
        "import seaborn as sns\n",
        "import scipy.stats as st\n",
        "import matplotlib.pyplot as plt\n",
        "\n",
        "from math import sqrt\n",
        "from scipy.stats import gaussian_kde\n",
        "from scipy.optimize import curve_fit\n",
        "from scipy.special import gamma as gamma_function\n",
        "\n",
        "import warnings\n",
        "warnings.filterwarnings('ignore')"
      ],
      "execution_count": null,
      "outputs": []
    },
    {
      "cell_type": "code",
      "metadata": {
        "id": "qXxZ-kT3ZfE2"
      },
      "source": [
        "!pip install scipy"
      ],
      "execution_count": null,
      "outputs": []
    },
    {
      "cell_type": "code",
      "metadata": {
        "execution": {
          "iopub.status.busy": "2021-11-04T17:10:38.169525Z",
          "iopub.execute_input": "2021-11-04T17:10:38.170441Z",
          "iopub.status.idle": "2021-11-04T17:10:38.173690Z",
          "shell.execute_reply.started": "2021-11-04T17:10:38.170385Z",
          "shell.execute_reply": "2021-11-04T17:10:38.173089Z"
        },
        "trusted": true,
        "id": "RyCoRhnWBn1F"
      },
      "source": [
        "from google.colab import drive\n",
        "drive.mount('/content/drive')"
      ],
      "execution_count": null,
      "outputs": []
    },
    {
      "cell_type": "markdown",
      "metadata": {
        "id": "BrLvRa6qBn1G"
      },
      "source": [
        "- Написать про каждый столбец.\n",
        "- Написать, как изменились столбцы."
      ]
    },
    {
      "cell_type": "code",
      "metadata": {
        "execution": {
          "iopub.status.busy": "2021-11-06T16:07:34.865787Z",
          "iopub.execute_input": "2021-11-06T16:07:34.866092Z",
          "iopub.status.idle": "2021-11-06T16:07:34.932536Z",
          "shell.execute_reply.started": "2021-11-06T16:07:34.866056Z",
          "shell.execute_reply": "2021-11-06T16:07:34.931836Z"
        },
        "trusted": true,
        "id": "2KrGrTV3Bn1I"
      },
      "source": [
        "lunar = pd.read_csv('/content/drive/MyDrive/Colab Notebooks/University/Multivariate/lunar.csv')"
      ],
      "execution_count": null,
      "outputs": []
    },
    {
      "cell_type": "code",
      "metadata": {
        "colab": {
          "base_uri": "https://localhost:8080/",
          "height": 382
        },
        "id": "IahAiHbX8UCy",
        "outputId": "ec1de09d-6e3e-4c85-9202-cc786da31d86"
      },
      "source": [
        "lunar.sample(5)"
      ],
      "execution_count": null,
      "outputs": [
        {
          "output_type": "execute_result",
          "data": {
            "text/html": [
              "<div>\n",
              "<style scoped>\n",
              "    .dataframe tbody tr th:only-of-type {\n",
              "        vertical-align: middle;\n",
              "    }\n",
              "\n",
              "    .dataframe tbody tr th {\n",
              "        vertical-align: top;\n",
              "    }\n",
              "\n",
              "    .dataframe thead th {\n",
              "        text-align: right;\n",
              "    }\n",
              "</style>\n",
              "<table border=\"1\" class=\"dataframe\">\n",
              "  <thead>\n",
              "    <tr style=\"text-align: right;\">\n",
              "      <th></th>\n",
              "      <th>Catalog Number</th>\n",
              "      <th>Calendar Date</th>\n",
              "      <th>Eclipse Time</th>\n",
              "      <th>Delta T (s)</th>\n",
              "      <th>Lunation Number</th>\n",
              "      <th>Saros Number</th>\n",
              "      <th>Eclipse Type</th>\n",
              "      <th>Quincena Solar Eclipse</th>\n",
              "      <th>Gamma</th>\n",
              "      <th>Penumbral Magnitude</th>\n",
              "      <th>Umbral Magnitude</th>\n",
              "      <th>Latitude</th>\n",
              "      <th>Longitude</th>\n",
              "      <th>Penumbral Eclipse Duration (m)</th>\n",
              "      <th>Partial Eclipse Duration (m)</th>\n",
              "      <th>Total Eclipse Duration (m)</th>\n",
              "    </tr>\n",
              "  </thead>\n",
              "  <tbody>\n",
              "    <tr>\n",
              "      <th>9089</th>\n",
              "      <td>9090</td>\n",
              "      <td>1767 August 10</td>\n",
              "      <td>00:02:55</td>\n",
              "      <td>16</td>\n",
              "      <td>-2875</td>\n",
              "      <td>144</td>\n",
              "      <td>N</td>\n",
              "      <td>a-</td>\n",
              "      <td>1.4447</td>\n",
              "      <td>0.1826</td>\n",
              "      <td>-0.7690</td>\n",
              "      <td>14S</td>\n",
              "      <td>0E</td>\n",
              "      <td>113.2</td>\n",
              "      <td>-</td>\n",
              "      <td>-</td>\n",
              "    </tr>\n",
              "    <tr>\n",
              "      <th>325</th>\n",
              "      <td>326</td>\n",
              "      <td>-1866 April 28</td>\n",
              "      <td>05:02:45</td>\n",
              "      <td>43261</td>\n",
              "      <td>-47813</td>\n",
              "      <td>11</td>\n",
              "      <td>P</td>\n",
              "      <td>h-</td>\n",
              "      <td>-0.4893</td>\n",
              "      <td>1.9696</td>\n",
              "      <td>0.9507</td>\n",
              "      <td>8S</td>\n",
              "      <td>104E</td>\n",
              "      <td>333.7</td>\n",
              "      <td>198</td>\n",
              "      <td>-</td>\n",
              "    </tr>\n",
              "    <tr>\n",
              "      <th>4169</th>\n",
              "      <td>4170</td>\n",
              "      <td>-270 December 15</td>\n",
              "      <td>10:22:56</td>\n",
              "      <td>13600</td>\n",
              "      <td>-28065</td>\n",
              "      <td>40</td>\n",
              "      <td>N</td>\n",
              "      <td>-t</td>\n",
              "      <td>-1.1425</td>\n",
              "      <td>0.8145</td>\n",
              "      <td>-0.2905</td>\n",
              "      <td>22N</td>\n",
              "      <td>99W</td>\n",
              "      <td>262.8</td>\n",
              "      <td>-</td>\n",
              "      <td>-</td>\n",
              "    </tr>\n",
              "    <tr>\n",
              "      <th>7631</th>\n",
              "      <td>7632</td>\n",
              "      <td>1165 May 27</td>\n",
              "      <td>12:52:52</td>\n",
              "      <td>837</td>\n",
              "      <td>-10323</td>\n",
              "      <td>107</td>\n",
              "      <td>P</td>\n",
              "      <td>a-</td>\n",
              "      <td>-0.4727</td>\n",
              "      <td>1.9823</td>\n",
              "      <td>0.9986</td>\n",
              "      <td>23S</td>\n",
              "      <td>169E</td>\n",
              "      <td>319.5</td>\n",
              "      <td>194.5</td>\n",
              "      <td>-</td>\n",
              "    </tr>\n",
              "    <tr>\n",
              "      <th>5406</th>\n",
              "      <td>5407</td>\n",
              "      <td>241 July 10</td>\n",
              "      <td>15:10:04</td>\n",
              "      <td>8206</td>\n",
              "      <td>-21750</td>\n",
              "      <td>62</td>\n",
              "      <td>P</td>\n",
              "      <td>-t</td>\n",
              "      <td>-0.8980</td>\n",
              "      <td>1.2284</td>\n",
              "      <td>0.1922</td>\n",
              "      <td>23S</td>\n",
              "      <td>167E</td>\n",
              "      <td>293.7</td>\n",
              "      <td>102</td>\n",
              "      <td>-</td>\n",
              "    </tr>\n",
              "  </tbody>\n",
              "</table>\n",
              "</div>"
            ],
            "text/plain": [
              "      Catalog Number  ... Total Eclipse Duration (m)\n",
              "9089            9090  ...                          -\n",
              "325              326  ...                          -\n",
              "4169            4170  ...                          -\n",
              "7631            7632  ...                          -\n",
              "5406            5407  ...                          -\n",
              "\n",
              "[5 rows x 16 columns]"
            ]
          },
          "metadata": {},
          "execution_count": 4
        }
      ]
    },
    {
      "cell_type": "markdown",
      "metadata": {
        "id": "pf_Jk450VBGs"
      },
      "source": [
        "Step 1. Choosen subsample with main variables for further analysis"
      ]
    },
    {
      "cell_type": "code",
      "metadata": {
        "id": "-8R9R-tyVOCp"
      },
      "source": [
        "subsample = lunar[['Gamma', 'Penumbral Magnitude', 'Umbral Magnitude']]"
      ],
      "execution_count": null,
      "outputs": []
    },
    {
      "cell_type": "code",
      "metadata": {
        "colab": {
          "base_uri": "https://localhost:8080/",
          "height": 206
        },
        "id": "5pKKzQre8S3o",
        "outputId": "8f1a4c19-c995-40f2-cf2a-b779b18d677c"
      },
      "source": [
        "subsample.sample(5)"
      ],
      "execution_count": null,
      "outputs": [
        {
          "output_type": "execute_result",
          "data": {
            "text/html": [
              "<div>\n",
              "<style scoped>\n",
              "    .dataframe tbody tr th:only-of-type {\n",
              "        vertical-align: middle;\n",
              "    }\n",
              "\n",
              "    .dataframe tbody tr th {\n",
              "        vertical-align: top;\n",
              "    }\n",
              "\n",
              "    .dataframe thead th {\n",
              "        text-align: right;\n",
              "    }\n",
              "</style>\n",
              "<table border=\"1\" class=\"dataframe\">\n",
              "  <thead>\n",
              "    <tr style=\"text-align: right;\">\n",
              "      <th></th>\n",
              "      <th>Gamma</th>\n",
              "      <th>Penumbral Magnitude</th>\n",
              "      <th>Umbral Magnitude</th>\n",
              "    </tr>\n",
              "  </thead>\n",
              "  <tbody>\n",
              "    <tr>\n",
              "      <th>1180</th>\n",
              "      <td>-0.9901</td>\n",
              "      <td>1.0858</td>\n",
              "      <td>-0.0025</td>\n",
              "    </tr>\n",
              "    <tr>\n",
              "      <th>2405</th>\n",
              "      <td>-0.9331</td>\n",
              "      <td>1.1335</td>\n",
              "      <td>0.1579</td>\n",
              "    </tr>\n",
              "    <tr>\n",
              "      <th>4117</th>\n",
              "      <td>-0.2822</td>\n",
              "      <td>2.3304</td>\n",
              "      <td>1.3498</td>\n",
              "    </tr>\n",
              "    <tr>\n",
              "      <th>8595</th>\n",
              "      <td>1.0535</td>\n",
              "      <td>0.9582</td>\n",
              "      <td>-0.1079</td>\n",
              "    </tr>\n",
              "    <tr>\n",
              "      <th>3768</th>\n",
              "      <td>-1.0910</td>\n",
              "      <td>0.8898</td>\n",
              "      <td>-0.1771</td>\n",
              "    </tr>\n",
              "  </tbody>\n",
              "</table>\n",
              "</div>"
            ],
            "text/plain": [
              "       Gamma  Penumbral Magnitude  Umbral Magnitude\n",
              "1180 -0.9901               1.0858           -0.0025\n",
              "2405 -0.9331               1.1335            0.1579\n",
              "4117 -0.2822               2.3304            1.3498\n",
              "8595  1.0535               0.9582           -0.1079\n",
              "3768 -1.0910               0.8898           -0.1771"
            ]
          },
          "metadata": {},
          "execution_count": 6
        }
      ]
    },
    {
      "cell_type": "markdown",
      "metadata": {
        "id": "K5R-rh3dBn1K"
      },
      "source": [
        "### Gamma\n",
        "\n",
        "Step 2. Non-parametric estimation of PDF in form of histogram and using kernel density function"
      ]
    },
    {
      "cell_type": "code",
      "metadata": {
        "id": "Z6i2RJcf8lpN"
      },
      "source": [
        "gamma = subsample['Gamma']"
      ],
      "execution_count": null,
      "outputs": []
    },
    {
      "cell_type": "code",
      "metadata": {
        "execution": {
          "iopub.status.busy": "2021-11-06T16:09:04.265965Z",
          "iopub.execute_input": "2021-11-06T16:09:04.266235Z",
          "iopub.status.idle": "2021-11-06T16:09:04.271156Z",
          "shell.execute_reply.started": "2021-11-06T16:09:04.266208Z",
          "shell.execute_reply": "2021-11-06T16:09:04.270553Z"
        },
        "trusted": true,
        "id": "RUKUeSS0Bn1L"
      },
      "source": [
        "def get_bin_count(feature):\n",
        "    n = feature.shape[0]\n",
        "    return np.round(5 * np.log(n)).astype('int')"
      ],
      "execution_count": null,
      "outputs": []
    },
    {
      "cell_type": "code",
      "metadata": {
        "execution": {
          "iopub.status.busy": "2021-11-06T16:09:55.339347Z",
          "iopub.execute_input": "2021-11-06T16:09:55.339658Z",
          "iopub.status.idle": "2021-11-06T16:09:55.343824Z",
          "shell.execute_reply.started": "2021-11-06T16:09:55.339622Z",
          "shell.execute_reply": "2021-11-06T16:09:55.343141Z"
        },
        "trusted": true,
        "id": "kf63GqDXBn1L"
      },
      "source": [
        "n_bins = get_bin_count(gamma)"
      ],
      "execution_count": null,
      "outputs": []
    },
    {
      "cell_type": "code",
      "metadata": {
        "execution": {
          "iopub.status.busy": "2021-11-04T17:27:03.772316Z",
          "iopub.execute_input": "2021-11-04T17:27:03.772942Z",
          "iopub.status.idle": "2021-11-04T17:27:04.278750Z",
          "shell.execute_reply.started": "2021-11-04T17:27:03.772904Z",
          "shell.execute_reply": "2021-11-04T17:27:04.277894Z"
        },
        "trusted": true,
        "id": "YAxn5gGoBn1M"
      },
      "source": [
        "def hist_and_kde(feature, label):\n",
        "    density = gaussian_kde(feature)\n",
        "    xgrid = np.linspace(feature.min(), feature.max(), n_bins)\n",
        "    plt.figure(figsize=(7, 5))\n",
        "    plt.hist(feature, bins=n_bins, density=True)\n",
        "    plt.plot(xgrid, density(xgrid), 'r-')\n",
        "    plt.xlabel(label)\n",
        "    plt.ylabel('Density')"
      ],
      "execution_count": null,
      "outputs": []
    },
    {
      "cell_type": "code",
      "metadata": {
        "colab": {
          "base_uri": "https://localhost:8080/",
          "height": 334
        },
        "id": "SEH8hv5fWuQz",
        "outputId": "4bacc1a3-011f-49df-fab4-d430a6c318e4"
      },
      "source": [
        "hist_and_kde(gamma, 'Gamma')"
      ],
      "execution_count": null,
      "outputs": [
        {
          "output_type": "display_data",
          "data": {
            "image/png": "[encoded data removed]",
            "text/plain": [
              "<Figure size 504x360 with 1 Axes>"
            ]
          },
          "metadata": {
            "needs_background": "light"
          }
        }
      ]
    },
    {
      "cell_type": "markdown",
      "metadata": {
        "id": "g0MMUCdEBn1N"
      },
      "source": [
        "Step 3. Estimation of order statistics and their representation as boxplot."
      ]
    },
    {
      "cell_type": "code",
      "metadata": {
        "id": "kLnMUhR2sIlG"
      },
      "source": [
        "def get_max_min(feature):\n",
        "    feature_max = feature.max()\n",
        "    feature_min = feature.min()\n",
        "    print(f'{feature_max} - max number of {feature.name}')\n",
        "    print(f'{feature_min} - min number of {feature.name}')"
      ],
      "execution_count": null,
      "outputs": []
    },
    {
      "cell_type": "code",
      "metadata": {
        "colab": {
          "base_uri": "https://localhost:8080/"
        },
        "id": "GfG6wmCfsvCV",
        "outputId": "aaf922af-84bf-4bf9-aa20-e2d19c8354be"
      },
      "source": [
        "get_max_min(gamma)"
      ],
      "execution_count": null,
      "outputs": [
        {
          "output_type": "stream",
          "name": "stdout",
          "text": [
            "1.5791 - max number of Gamma\n",
            "-1.5827 - min number of Gamma\n"
          ]
        }
      ]
    },
    {
      "cell_type": "code",
      "metadata": {
        "id": "fvpo5yOoaRHv"
      },
      "source": [
        "percs = np.linspace(0, 100, 5)"
      ],
      "execution_count": null,
      "outputs": []
    },
    {
      "cell_type": "code",
      "metadata": {
        "execution": {
          "iopub.status.busy": "2021-11-04T17:30:44.257282Z",
          "iopub.execute_input": "2021-11-04T17:30:44.257548Z",
          "iopub.status.idle": "2021-11-04T17:30:44.276855Z",
          "shell.execute_reply.started": "2021-11-04T17:30:44.257521Z",
          "shell.execute_reply": "2021-11-04T17:30:44.275726Z"
        },
        "trusted": true,
        "id": "RGXnJDjLBn1P"
      },
      "source": [
        "# Calculating confidence intervals for 25%, 50% and 75% quantiles\n",
        "def conf_intervals(data, qn):\n",
        "    # 95% quantile of Gaussian distribution\n",
        "    norm_q95 = st.norm.ppf(0.95)\n",
        "    kernel = gaussian_kde(data)\n",
        "\n",
        "    p25 = len(data[data < qn[1]]) / len(data)\n",
        "    sigma25 = (sqrt((p25 * (1 - p25)) / len(data))) / kernel(qn[1])\n",
        "    p50 = len(data[data < qn[2]]) / len(data)\n",
        "    sigma50 = (sqrt((p50 * (1 - p50)) / len(data))) / kernel(qn[2])\n",
        "    p75 = len(data[data < qn[3]]) / len(data)\n",
        "    sigma75 = (sqrt((p75 * (1 - p75)) / len(data))) / kernel(qn[3])\n",
        "\n",
        "    conf_q25 = norm_q95 * sigma25\n",
        "    conf_q50 = norm_q95 * sigma50\n",
        "    conf_q75 = norm_q95 * sigma75\n",
        "    \n",
        "    conf_ints = [conf_q25[0], conf_q50[0], conf_q75[0]]\n",
        "\n",
        "    for qn_, conf_ints_, perc_ in zip(qn[1:4], conf_ints, percs[1:4]):\n",
        "        print(f'{qn_:.3f} +/- {conf_ints_:.3f} - confidence interval for {perc_}% quantile at 95% confidence level')\n",
        "\n",
        "    return conf_ints"
      ],
      "execution_count": null,
      "outputs": []
    },
    {
      "cell_type": "code",
      "metadata": {
        "colab": {
          "base_uri": "https://localhost:8080/"
        },
        "id": "8aAF7xVWoDRT",
        "outputId": "54f68fd9-d478-4942-c116-a75cca1a3674"
      },
      "source": [
        "qn = np.percentile(gamma, percs)\n",
        "p_conf_intervals = conf_intervals(gamma, qn)"
      ],
      "execution_count": null,
      "outputs": [
        {
          "output_type": "stream",
          "name": "stdout",
          "text": [
            "-0.789 +/- 0.020 - confidence interval for 25.0% quantile at 95% confidence level\n",
            "0.002 +/- 0.023 - confidence interval for 50.0% quantile at 95% confidence level\n",
            "0.792 +/- 0.020 - confidence interval for 75.0% quantile at 95% confidence level\n"
          ]
        }
      ]
    },
    {
      "cell_type": "code",
      "metadata": {
        "execution": {
          "iopub.status.busy": "2021-11-04T18:02:02.435928Z",
          "iopub.execute_input": "2021-11-04T18:02:02.436230Z",
          "iopub.status.idle": "2021-11-04T18:02:02.641910Z",
          "shell.execute_reply.started": "2021-11-04T18:02:02.436196Z",
          "shell.execute_reply": "2021-11-04T18:02:02.641187Z"
        },
        "trusted": true,
        "id": "_R4thb_pBn1S"
      },
      "source": [
        "def get_boxplot(feature, qn, p_conf_intervals):\n",
        "    plt.figure(figsize=(20, 5))\n",
        "    plt.boxplot(feature, vert=False)\n",
        "    plt.errorbar(\n",
        "        # [25%, 50%, 75%]\n",
        "        qn[1:4],\n",
        "        [1, 1, 1],\n",
        "        xerr=p_conf_intervals,\n",
        "        yerr=[0, 0, 0],\n",
        "        ls='none',\n",
        "        capsize=3,\n",
        "        elinewidth=2\n",
        "    )"
      ],
      "execution_count": null,
      "outputs": []
    },
    {
      "cell_type": "code",
      "metadata": {
        "colab": {
          "base_uri": "https://localhost:8080/",
          "height": 320
        },
        "id": "d6RpkN5YtLkC",
        "outputId": "7da0c140-b428-44c1-d926-6d1b4e60a34b"
      },
      "source": [
        "get_boxplot(gamma, qn, p_conf_intervals)"
      ],
      "execution_count": null,
      "outputs": [
        {
          "output_type": "display_data",
          "data": {
            "image/png": "[encoded data removed]",
            "text/plain": [
              "<Figure size 1440x360 with 1 Axes>"
            ]
          },
          "metadata": {
            "needs_background": "light"
          }
        }
      ]
    },
    {
      "cell_type": "code",
      "metadata": {
        "id": "MORgwXYMu3Gv"
      },
      "source": [
        "def get_outliers(feature):\n",
        "    interquartile_range = qn[3] - qn[1]\n",
        "    upper = qn[3] + 1.5 * interquartile_range\n",
        "    lower = qn[1] - 1.5 * interquartile_range\n",
        "    return feature[(feature > upper) | (feature < lower)]"
      ],
      "execution_count": null,
      "outputs": []
    },
    {
      "cell_type": "code",
      "metadata": {
        "colab": {
          "base_uri": "https://localhost:8080/"
        },
        "id": "PYN-UhDev_Eq",
        "outputId": "4f1c0592-2d27-411c-d5cb-0e042b7655a8"
      },
      "source": [
        "outliers = get_outliers(gamma)\n",
        "print(f'Outliers count: {outliers.size}')"
      ],
      "execution_count": null,
      "outputs": [
        {
          "output_type": "stream",
          "name": "stdout",
          "text": [
            "Outliers count: 0\n"
          ]
        }
      ]
    },
    {
      "cell_type": "markdown",
      "metadata": {
        "id": "mw36VnG2f0X7"
      },
      "source": [
        "Step 4. Theoretical distributions that could describe sample on a basis of non-parametric analysis result  "
      ]
    },
    {
      "cell_type": "code",
      "metadata": {
        "id": "S05ObBkc--_D"
      },
      "source": [
        "dists = [st.beta, st.gennorm, st.ksone, st.mielke, st.powerlaw, st.tukeylambda]"
      ],
      "execution_count": null,
      "outputs": []
    },
    {
      "cell_type": "markdown",
      "metadata": {
        "id": "YnODfBu8f3fL"
      },
      "source": [
        "Step 5. Estimate parameteres of chosen distributions using methods of maximum likelihood and least squares method  \n",
        "\n",
        "Maximum likelihood estimation"
      ]
    },
    {
      "cell_type": "code",
      "metadata": {
        "id": "76yjqfbZXvGj"
      },
      "source": [
        "def create_dist_plots(feature, dists):\n",
        "    dist_params = []\n",
        "    n_dists = len(dists)\n",
        "    figure, axes = plt.subplots(1, n_dists, figsize=(n_dists * 4, 3))\n",
        "    feature_max = feature.max()\n",
        "    feature_min = feature.min()\n",
        "\n",
        "    for dist, ax in zip(dists, axes):\n",
        "        x = np.linspace(feature_min, feature_max)\n",
        "        params = dist.fit(feature)\n",
        "        dist_params.append(params)\n",
        "        pdf = dist.pdf(x, *params)\n",
        "        ax.hist(feature, bins=n_bins, density=True)\n",
        "        ax.plot(x, pdf, 'r')\n",
        "        ax.title.set_text(dist.__class__.__name__[:-4])\n",
        "    return dist_params"
      ],
      "execution_count": null,
      "outputs": []
    },
    {
      "cell_type": "code",
      "metadata": {
        "colab": {
          "base_uri": "https://localhost:8080/",
          "height": 194
        },
        "id": "OupCGv_M-_SX",
        "outputId": "805d5605-0894-4698-cfdd-00804ca9e422"
      },
      "source": [
        "dist_params = create_dist_plots(gamma, dists)"
      ],
      "execution_count": null,
      "outputs": [
        {
          "output_type": "display_data",
          "data": {
            "image/png": "[encoded data removed]",
            "text/plain": [
              "<Figure size 1728x216 with 6 Axes>"
            ]
          },
          "metadata": {
            "needs_background": "light"
          }
        }
      ]
    },
    {
      "cell_type": "markdown",
      "metadata": {
        "id": "XBfldSNWA-v5"
      },
      "source": [
        "Least squares method"
      ]
    },
    {
      "cell_type": "code",
      "metadata": {
        "id": "TGWmNnSBptbf"
      },
      "source": [
        "def create_dist_plots_ls(feature, dists, p0s):\n",
        "    n_dists = len(dists)\n",
        "    figure, axes = plt.subplots(1, n_dists, figsize=(n_dists * 4, 3))\n",
        "    feature_max = feature.max()\n",
        "    feature_min = feature.min()\n",
        "    histogram = np.histogram(gamma, bins=n_bins, density=True)\n",
        "    for dist, ax, p0 in zip(dists, axes, p0s):\n",
        "        x = np.linspace(feature_min, feature_max)\n",
        "        popt, _ = scipy.optimize.curve_fit(dist.pdf, (histogram[1][1:] + histogram[1][:-1]) / 2, histogram[0], p0=p0)\n",
        "        pdf = dist.pdf(x, *popt)\n",
        "        ax.hist(feature, bins=n_bins, density=True)\n",
        "        ax.plot(x, pdf, 'r')\n",
        "        ax.title.set_text(dist.__class__.__name__[:-4])"
      ],
      "execution_count": null,
      "outputs": []
    },
    {
      "cell_type": "code",
      "metadata": {
        "id": "z9jLP9lWyfdl"
      },
      "source": [
        "p0s = [[1, 1, -1.5, 3],\n",
        "       [141, 0, 2],\n",
        "       [1, -1.6, 3],\n",
        "       [1, 371, -2, 3],\n",
        "       [1, -2, 3],\n",
        "       [1, 0, 1]]"
      ],
      "execution_count": null,
      "outputs": []
    },
    {
      "cell_type": "code",
      "metadata": {
        "colab": {
          "base_uri": "https://localhost:8080/",
          "height": 194
        },
        "id": "_2Aj-IJcr75Y",
        "outputId": "40fd7111-72d8-4d82-99bb-55a6c92037ea"
      },
      "source": [
        "create_dist_plots_ls(gamma, dists, p0s)"
      ],
      "execution_count": null,
      "outputs": [
        {
          "output_type": "display_data",
          "data": {
            "image/png": "[encoded data removed]",
            "text/plain": [
              "<Figure size 1728x216 with 6 Axes>"
            ]
          },
          "metadata": {
            "needs_background": "light"
          }
        }
      ]
    },
    {
      "cell_type": "markdown",
      "metadata": {
        "id": "xro52R4SAYx9"
      },
      "source": [
        "Step 6. Validate your estimated parameters using QQ biplots  "
      ]
    },
    {
      "cell_type": "code",
      "metadata": {
        "id": "hPvgpHlI021r"
      },
      "source": [
        "def create_qq_plots(feature, dists, dist_params):\n",
        "    n_dists = len(dists)\n",
        "    figure, axes = plt.subplots(1, n_dists, figsize=(n_dists * 4, 3))\n",
        "    feature_max = feature.max()\n",
        "    feature_min = feature.min()\n",
        "    x = np.linspace(feature_min, feature_max)\n",
        "    percs = np.linspace(0, 100, 31)\n",
        "    qn = np.percentile(feature, percs)\n",
        "\n",
        "    for dist, dist_params_, ax in zip(dists, dist_params, axes):\n",
        "        qn_dist = dist.ppf(percs / 100.0, *dist_params_)\n",
        "        ax.plot(qn, qn_dist, ls=\"\", marker=\"o\", markersize=6)\n",
        "        ax.plot(x, x, color=\"k\", ls=\"--\")\n",
        "        ax.set_xlim(feature_min, feature_max)\n",
        "        ax.set_ylim(feature_min, feature_max)\n",
        "        ax.set_xlabel('Empirical distribution')\n",
        "        ax.set_ylabel('Theoretical distribution')\n",
        "        ax.title.set_text(dist.__class__.__name__[:-4])"
      ],
      "execution_count": null,
      "outputs": []
    },
    {
      "cell_type": "code",
      "metadata": {
        "id": "jxImBshRbwbw",
        "colab": {
          "base_uri": "https://localhost:8080/",
          "height": 203
        },
        "outputId": "6b196f4a-5448-41e8-8661-6d5e8a11e263"
      },
      "source": [
        "create_qq_plots(gamma, dists, dist_params)"
      ],
      "execution_count": null,
      "outputs": [
        {
          "output_type": "display_data",
          "data": {
            "image/png": "[encoded data removed]",
            "text/plain": [
              "<Figure size 1728x216 with 6 Axes>"
            ]
          },
          "metadata": {
            "needs_background": "light"
          }
        }
      ]
    },
    {
      "cell_type": "markdown",
      "metadata": {
        "id": "ABpdIc-PA3ac"
      },
      "source": [
        "Step 7. Validate your estimate correctness of fitted distributions using at least 2 statictical tests"
      ]
    },
    {
      "cell_type": "code",
      "metadata": {
        "id": "m-NFm95eBng9"
      },
      "source": [
        "def tests(feature, dists, dist_params):\n",
        "    for dist, dist_param_ in zip(dists, dist_params):\n",
        "        print(f'{dist.__class__.__name__[:-4]}')\n",
        "        x = np.linspace(np.min(feature), np.max(feature))\n",
        "        params = dist.fit(feature)\n",
        "        pdf = dist.pdf(x, *params)\n",
        "        ks = st.kstest(feature, dist.__class__.__name__[:-4], params, N=100)\n",
        "        cramervonmises = st.cramervonmises(feature, dist.__class__.__name__[:-4], params)\n",
        "        print(ks)\n",
        "        print(cramervonmises)"
      ],
      "execution_count": null,
      "outputs": []
    },
    {
      "cell_type": "code",
      "metadata": {
        "id": "17fSSiqPeHgo",
        "colab": {
          "base_uri": "https://localhost:8080/"
        },
        "outputId": "bb12c3da-9fef-4ab2-9226-114b218b0583"
      },
      "source": [
        "tests(gamma, dists, dist_params)"
      ],
      "execution_count": null,
      "outputs": [
        {
          "output_type": "stream",
          "name": "stdout",
          "text": [
            "beta\n",
            "KstestResult(statistic=0.009462315915105435, pvalue=0.2287835171205841)\n",
            "CramerVonMisesResult(statistic=0.29668047759935884, pvalue=0.13811711911870095)\n",
            "gennorm\n",
            "KstestResult(statistic=0.007485311709904852, pvalue=0.5061532249182663)\n",
            "CramerVonMisesResult(statistic=0.15348739566292566, pvalue=0.3791261644385727)\n",
            "ksone\n",
            "KstestResult(statistic=0.007939402683525523, pvalue=0.43027011075121246)\n",
            "CramerVonMisesResult(statistic=0.07237050067897757, pvalue=0.7371076020690448)\n",
            "mielke\n",
            "KstestResult(statistic=0.008410203839881059, pvalue=0.35881175714227664)\n",
            "CramerVonMisesResult(statistic=0.16779737789828103, pvalue=0.3396272800746465)\n",
            "powerlaw\n",
            "KstestResult(statistic=0.010645670466498891, pvalue=0.12890624946988316)\n",
            "CramerVonMisesResult(statistic=0.3069301079397724, pvalue=0.1292450786026883)\n",
            "tukeylambda\n",
            "KstestResult(statistic=0.010813645971996536, pvalue=0.11816233460507564)\n",
            "CramerVonMisesResult(statistic=0.4303713478854808, pvalue=0.06014011479723602)\n"
          ]
        }
      ]
    },
    {
      "cell_type": "markdown",
      "metadata": {
        "id": "Uv7FS70A7Znd"
      },
      "source": [
        "### Penumbral Magnitude\n",
        "\n",
        "Step 2. Non-parametric estimation of PDF in form of histogram and using kernel density function"
      ]
    },
    {
      "cell_type": "code",
      "metadata": {
        "id": "oHh8mjiX7Zne"
      },
      "source": [
        "penumbral_magnitude = subsample['Penumbral Magnitude']"
      ],
      "execution_count": null,
      "outputs": []
    },
    {
      "cell_type": "code",
      "metadata": {
        "execution": {
          "iopub.status.busy": "2021-11-06T16:09:55.339347Z",
          "iopub.execute_input": "2021-11-06T16:09:55.339658Z",
          "iopub.status.idle": "2021-11-06T16:09:55.343824Z",
          "shell.execute_reply.started": "2021-11-06T16:09:55.339622Z",
          "shell.execute_reply": "2021-11-06T16:09:55.343141Z"
        },
        "trusted": true,
        "id": "kfHJJs6B7Zne"
      },
      "source": [
        "n_bins = get_bin_count(penumbral_magnitude)"
      ],
      "execution_count": null,
      "outputs": []
    },
    {
      "cell_type": "code",
      "metadata": {
        "colab": {
          "base_uri": "https://localhost:8080/",
          "height": 334
        },
        "id": "LxGZ5TPC7Zne",
        "outputId": "d08d641e-5e87-45fa-8f3b-1c55d2116928"
      },
      "source": [
        "hist_and_kde(penumbral_magnitude, 'Penumbral Magnitude')"
      ],
      "execution_count": null,
      "outputs": [
        {
          "output_type": "display_data",
          "data": {
            "image/png": "[encoded data removed]",
            "text/plain": [
              "<Figure size 504x360 with 1 Axes>"
            ]
          },
          "metadata": {
            "needs_background": "light"
          }
        }
      ]
    },
    {
      "cell_type": "markdown",
      "metadata": {
        "id": "htrYCqS77Zne"
      },
      "source": [
        "Step 3. Estimation of order statistics and their representation as boxplot."
      ]
    },
    {
      "cell_type": "code",
      "metadata": {
        "colab": {
          "base_uri": "https://localhost:8080/"
        },
        "id": "cdHCwOaK7Zne",
        "outputId": "926a780b-9029-4f5d-cc26-c717d2281bd0"
      },
      "source": [
        "get_max_min(penumbral_magnitude)"
      ],
      "execution_count": null,
      "outputs": [
        {
          "output_type": "stream",
          "name": "stdout",
          "text": [
            "2.9089 - max number of Penumbral Magnitude\n",
            "0.0004 - min number of Penumbral Magnitude\n"
          ]
        }
      ]
    },
    {
      "cell_type": "code",
      "metadata": {
        "colab": {
          "base_uri": "https://localhost:8080/"
        },
        "id": "ejJzpboQ7Znf",
        "outputId": "c9a3d647-ba88-44de-e802-57954dc6e1e4"
      },
      "source": [
        "percs = np.linspace(0, 100, 5)\n",
        "qn = np.percentile(penumbral_magnitude, percs)\n",
        "p_conf_intervals = conf_intervals(penumbral_magnitude, qn)"
      ],
      "execution_count": null,
      "outputs": [
        {
          "output_type": "stream",
          "name": "stdout",
          "text": [
            "0.684 +/- 0.019 - confidence interval for 25.0% quantile at 95% confidence level\n",
            "1.417 +/- 0.021 - confidence interval for 50.0% quantile at 95% confidence level\n",
            "2.137 +/- 0.019 - confidence interval for 75.0% quantile at 95% confidence level\n"
          ]
        }
      ]
    },
    {
      "cell_type": "code",
      "metadata": {
        "colab": {
          "base_uri": "https://localhost:8080/",
          "height": 320
        },
        "id": "QFxGKXIu7Znf",
        "outputId": "3ca06262-8dca-433d-cadc-309c58276c18"
      },
      "source": [
        "get_boxplot(penumbral_magnitude, qn, p_conf_intervals)"
      ],
      "execution_count": null,
      "outputs": [
        {
          "output_type": "display_data",
          "data": {
            "image/png": "[encoded data removed]",
            "text/plain": [
              "<Figure size 1440x360 with 1 Axes>"
            ]
          },
          "metadata": {
            "needs_background": "light"
          }
        }
      ]
    },
    {
      "cell_type": "code",
      "metadata": {
        "colab": {
          "base_uri": "https://localhost:8080/"
        },
        "id": "_tcalNVN7Znf",
        "outputId": "8f1497e5-4528-48d6-c8d9-384ae360dcb3"
      },
      "source": [
        "outliers = get_outliers(penumbral_magnitude)\n",
        "print(f'Outliers count: {outliers.size}')"
      ],
      "execution_count": null,
      "outputs": [
        {
          "output_type": "stream",
          "name": "stdout",
          "text": [
            "Outliers count: 0\n"
          ]
        }
      ]
    },
    {
      "cell_type": "markdown",
      "metadata": {
        "id": "rHLI36ZA7Znf"
      },
      "source": [
        "Step 4. Theoretical distributions that could describe sample on a basis of non-parametric analysis result"
      ]
    },
    {
      "cell_type": "code",
      "metadata": {
        "id": "1vz9ADRz7Zng"
      },
      "source": [
        "dists = [st.beta, st.exponweib, st.gengamma, st.mielke]"
      ],
      "execution_count": null,
      "outputs": []
    },
    {
      "cell_type": "markdown",
      "metadata": {
        "id": "XRkVxhBlgHVf"
      },
      "source": [
        "Step 5. Estimate parameteres of chosen distributions using methods of maximum likelihood and least squares method  \n",
        "\n",
        "Maximum likelihood estimation"
      ]
    },
    {
      "cell_type": "code",
      "metadata": {
        "colab": {
          "base_uri": "https://localhost:8080/",
          "height": 227
        },
        "id": "dep5Qr3y-rcu",
        "outputId": "38d6bb3e-af98-4535-e6ac-2d2938d5573f"
      },
      "source": [
        "dist_params = create_dist_plots(penumbral_magnitude, dists)"
      ],
      "execution_count": null,
      "outputs": [
        {
          "output_type": "display_data",
          "data": {
            "image/png": "[encoded data removed]",
            "text/plain": [
              "<Figure size 1152x216 with 4 Axes>"
            ]
          },
          "metadata": {
            "needs_background": "light"
          }
        }
      ]
    },
    {
      "cell_type": "markdown",
      "metadata": {
        "id": "406g-8le7Zng"
      },
      "source": [
        "Least squares method"
      ]
    },
    {
      "cell_type": "code",
      "metadata": {
        "id": "wKfaaXPEnAIb"
      },
      "source": [
        "p0s = [[1, 1, 0.1, 2.8],\n",
        "       [0.01, 67, 0, 2],\n",
        "       [0.02, 42, 0, 2],\n",
        "       [1,172, 0, 3]]"
      ],
      "execution_count": null,
      "outputs": []
    },
    {
      "cell_type": "code",
      "metadata": {
        "colab": {
          "base_uri": "https://localhost:8080/",
          "height": 227
        },
        "id": "qlkYKuYo2-gj",
        "outputId": "fe3f4e34-55d9-4525-898c-230e7ba9c2a6"
      },
      "source": [
        "create_dist_plots_ls(penumbral_magnitude, dists, p0s)"
      ],
      "execution_count": null,
      "outputs": [
        {
          "output_type": "display_data",
          "data": {
            "image/png": "[encoded data removed]",
            "text/plain": [
              "<Figure size 1152x216 with 4 Axes>"
            ]
          },
          "metadata": {
            "needs_background": "light"
          }
        }
      ]
    },
    {
      "cell_type": "markdown",
      "metadata": {
        "id": "NdaFgblKmwLi"
      },
      "source": [
        "Heavily dependent on p0, as it may get stuck in local minimum"
      ]
    },
    {
      "cell_type": "markdown",
      "metadata": {
        "id": "9sOqBeLk7Zni"
      },
      "source": [
        "Step 6. Validate your estimated parameters using QQ biplots  "
      ]
    },
    {
      "cell_type": "code",
      "metadata": {
        "colab": {
          "base_uri": "https://localhost:8080/",
          "height": 241
        },
        "id": "qhsBH-p6YVFH",
        "outputId": "5ddd9143-b5b3-431d-d364-723957f9bef7"
      },
      "source": [
        "create_qq_plots(penumbral_magnitude, dists, dist_params)"
      ],
      "execution_count": null,
      "outputs": [
        {
          "output_type": "display_data",
          "data": {
            "image/png": "[encoded data removed]",
            "text/plain": [
              "<Figure size 1152x216 with 4 Axes>"
            ]
          },
          "metadata": {
            "needs_background": "light"
          }
        }
      ]
    },
    {
      "cell_type": "markdown",
      "metadata": {
        "id": "V6N2FdJp7Zni"
      },
      "source": [
        "Step 7. Validate your estimate correctness of fitted distributions using at least 2 statictical tests"
      ]
    },
    {
      "cell_type": "code",
      "metadata": {
        "colab": {
          "base_uri": "https://localhost:8080/"
        },
        "id": "zLq2C4SQd7TI",
        "outputId": "6fb86180-b470-46b5-95c0-acf14064e1c5"
      },
      "source": [
        "tests(penumbral_magnitude, dists, dist_params)"
      ],
      "execution_count": null,
      "outputs": [
        {
          "output_type": "stream",
          "name": "stdout",
          "text": [
            "beta\n",
            "KstestResult(statistic=0.011101338159772933, pvalue=0.10147540293425117)\n",
            "CramerVonMisesResult(statistic=0.5209149665904036, pvalue=0.03526139582954624)\n",
            "exponweib\n",
            "KstestResult(statistic=0.008818029038794306, pvalue=0.3034914229665462)\n",
            "CramerVonMisesResult(statistic=0.18948201103549075, pvalue=0.28880922718555146)\n",
            "gengamma\n",
            "KstestResult(statistic=0.009216046214294171, pvalue=0.25552836608030205)\n",
            "CramerVonMisesResult(statistic=0.1919174985033672, pvalue=0.28369243278025824)\n",
            "mielke\n",
            "KstestResult(statistic=0.006584513174423434, pvalue=0.6697715894326708)\n",
            "CramerVonMisesResult(statistic=0.07995764038941507, pvalue=0.6921089247957903)\n"
          ]
        }
      ]
    },
    {
      "cell_type": "markdown",
      "metadata": {
        "id": "OMSzgfkoehOA"
      },
      "source": [
        "### Umbral Magnitude\n",
        "\n",
        "Step 2. Non-parametric estimation of PDF in form of histogram and using kernel density function"
      ]
    },
    {
      "cell_type": "code",
      "metadata": {
        "id": "Fc31L2rVehOB"
      },
      "source": [
        "umbral_magnitude = subsample['Umbral Magnitude']"
      ],
      "execution_count": null,
      "outputs": []
    },
    {
      "cell_type": "code",
      "metadata": {
        "execution": {
          "iopub.status.busy": "2021-11-06T16:09:55.339347Z",
          "iopub.execute_input": "2021-11-06T16:09:55.339658Z",
          "iopub.status.idle": "2021-11-06T16:09:55.343824Z",
          "shell.execute_reply.started": "2021-11-06T16:09:55.339622Z",
          "shell.execute_reply": "2021-11-06T16:09:55.343141Z"
        },
        "trusted": true,
        "id": "mVDiUb5YehOB"
      },
      "source": [
        "n_bins = get_bin_count(umbral_magnitude)"
      ],
      "execution_count": null,
      "outputs": []
    },
    {
      "cell_type": "code",
      "metadata": {
        "colab": {
          "base_uri": "https://localhost:8080/",
          "height": 334
        },
        "id": "AR4Viws3ehOB",
        "outputId": "6c290826-eae8-46b0-9ba6-bb56c22efb16"
      },
      "source": [
        "hist_and_kde(umbral_magnitude, 'Umbral Magnitude')"
      ],
      "execution_count": null,
      "outputs": [
        {
          "output_type": "display_data",
          "data": {
            "image/png": "[encoded data removed]",
            "text/plain": [
              "<Figure size 504x360 with 1 Axes>"
            ]
          },
          "metadata": {
            "needs_background": "light"
          }
        }
      ]
    },
    {
      "cell_type": "markdown",
      "metadata": {
        "id": "BCpycIS0ehOB"
      },
      "source": [
        "Step 3. Estimation of order statistics and their representation as boxplot."
      ]
    },
    {
      "cell_type": "code",
      "metadata": {
        "colab": {
          "base_uri": "https://localhost:8080/"
        },
        "id": "VPnLS9TZehOB",
        "outputId": "233d9c96-98f8-49e8-b5c5-f0ca6be339e5"
      },
      "source": [
        "get_max_min(umbral_magnitude)"
      ],
      "execution_count": null,
      "outputs": [
        {
          "output_type": "stream",
          "name": "stdout",
          "text": [
            "1.8821 - max number of Umbral Magnitude\n",
            "-1.0958 - min number of Umbral Magnitude\n"
          ]
        }
      ]
    },
    {
      "cell_type": "code",
      "metadata": {
        "colab": {
          "base_uri": "https://localhost:8080/"
        },
        "id": "5sMpxzrGehOB",
        "outputId": "63f39fda-d66f-496b-ce54-5cb8696380a1"
      },
      "source": [
        "percs = np.linspace(0, 100, 5)\n",
        "qn = np.percentile(umbral_magnitude, percs)\n",
        "p_conf_intervals = conf_intervals(umbral_magnitude, qn)"
      ],
      "execution_count": null,
      "outputs": [
        {
          "output_type": "stream",
          "name": "stdout",
          "text": [
            "-0.334 +/- 0.019 - confidence interval for 25.0% quantile at 95% confidence level\n",
            "0.400 +/- 0.021 - confidence interval for 50.0% quantile at 95% confidence level\n",
            "1.118 +/- 0.020 - confidence interval for 75.0% quantile at 95% confidence level\n"
          ]
        }
      ]
    },
    {
      "cell_type": "code",
      "metadata": {
        "colab": {
          "base_uri": "https://localhost:8080/",
          "height": 320
        },
        "id": "3jd494R7ehOC",
        "outputId": "3706b0a0-9a79-4ebe-ae64-c807314004f3"
      },
      "source": [
        "get_boxplot(umbral_magnitude, qn, p_conf_intervals)"
      ],
      "execution_count": null,
      "outputs": [
        {
          "output_type": "display_data",
          "data": {
            "image/png": "[encoded data removed]",
            "text/plain": [
              "<Figure size 1440x360 with 1 Axes>"
            ]
          },
          "metadata": {
            "needs_background": "light"
          }
        }
      ]
    },
    {
      "cell_type": "code",
      "metadata": {
        "colab": {
          "base_uri": "https://localhost:8080/"
        },
        "id": "V3pSWsunehOC",
        "outputId": "ac3bd8d1-ade5-4fc3-df42-837b4fc91c6a"
      },
      "source": [
        "outliers = get_outliers(umbral_magnitude)\n",
        "print(f'Outliers count: {outliers.size}')"
      ],
      "execution_count": null,
      "outputs": [
        {
          "output_type": "stream",
          "name": "stdout",
          "text": [
            "Outliers count: 0\n"
          ]
        }
      ]
    },
    {
      "cell_type": "markdown",
      "metadata": {
        "id": "bu-wsFG7ehOC"
      },
      "source": [
        "Step 4. Theoretical distributions that could describe sample on a basis of non-parametric analysis result  \n",
        "Step 5. Estimate parameteres of chosen distributions using methods of maximum likelihood and least squares method  \n",
        "\n",
        "Maximum likelihood estimation"
      ]
    },
    {
      "cell_type": "code",
      "metadata": {
        "colab": {
          "base_uri": "https://localhost:8080/",
          "height": 279
        },
        "id": "R_7uKwW8fFBm",
        "outputId": "ed946982-fb6f-4289-e9aa-a3888c1e0e91"
      },
      "source": [
        "umbral_max = umbral_magnitude.max()\n",
        "umbral_min = umbral_magnitude.min()\n",
        "x = np.linspace(umbral_min, umbral_max)\n",
        "params = st.gennorm.fit(umbral_magnitude)\n",
        "pdf = st.gennorm.pdf(x, *params)\n",
        "plt.hist(umbral_magnitude, bins=n_bins, density=True)\n",
        "plt.plot(x, pdf, 'r')\n",
        "plt.xlabel('gennorm')\n",
        "plt.show()"
      ],
      "execution_count": null,
      "outputs": [
        {
          "output_type": "display_data",
          "data": {
            "image/png": "[encoded data removed]",
            "text/plain": [
              "<Figure size 432x288 with 1 Axes>"
            ]
          },
          "metadata": {
            "needs_background": "light"
          }
        }
      ]
    },
    {
      "cell_type": "markdown",
      "metadata": {
        "id": "tJf0-q0hehOC"
      },
      "source": [
        "Least squares method"
      ]
    },
    {
      "cell_type": "code",
      "metadata": {
        "colab": {
          "base_uri": "https://localhost:8080/",
          "height": 279
        },
        "id": "c-gP7tCIiY9d",
        "outputId": "25c20264-edeb-41b3-bfbe-bc7220c04da4"
      },
      "source": [
        "histogram = np.histogram(umbral_magnitude, bins=n_bins, density=True)\n",
        "params_ls, _ = scipy.optimize.curve_fit(st.gennorm.pdf, (histogram[1][1:] + histogram[1][:-1]) / 2, histogram[0], p0=[1, 1, 1])\n",
        "x = np.linspace(umbral_min, umbral_max)\n",
        "pdf = st.gennorm.pdf(x, *params_ls)\n",
        "plt.hist(umbral_magnitude, bins=n_bins, density=True)\n",
        "plt.plot(x, pdf, 'r')\n",
        "plt.xlabel('gennorm')\n",
        "plt.show()"
      ],
      "execution_count": null,
      "outputs": [
        {
          "output_type": "display_data",
          "data": {
            "image/png": "[encoded data removed]",
            "text/plain": [
              "<Figure size 432x288 with 1 Axes>"
            ]
          },
          "metadata": {
            "needs_background": "light"
          }
        }
      ]
    },
    {
      "cell_type": "markdown",
      "metadata": {
        "id": "AU4NjoRTehOF"
      },
      "source": [
        "Step 6. Validate your estimated parameters using QQ biplots  "
      ]
    },
    {
      "cell_type": "code",
      "metadata": {
        "colab": {
          "base_uri": "https://localhost:8080/",
          "height": 295
        },
        "id": "v4FNaZufehOF",
        "outputId": "cfd8fa70-29f0-4d22-eae8-9b617155948c"
      },
      "source": [
        "percs = np.linspace(0, 100, 31)\n",
        "qn = np.percentile(umbral_magnitude, percs)\n",
        "\n",
        "qn_dist = st.gennorm.ppf(percs / 100.0, *params)\n",
        "plt.plot(qn, qn_dist, ls=\"\", marker=\"o\", markersize=6)\n",
        "plt.plot(x, x, color=\"k\", ls=\"--\")\n",
        "plt.xlim(umbral_min, umbral_max)\n",
        "plt.ylim(umbral_min, umbral_max)\n",
        "plt.xlabel('Empirical distribution')\n",
        "plt.ylabel('Theoretical distribution')\n",
        "plt.title('gennorm')\n",
        "plt.show()"
      ],
      "execution_count": null,
      "outputs": [
        {
          "output_type": "display_data",
          "data": {
            "image/png": "[encoded data removed]",
            "text/plain": [
              "<Figure size 432x288 with 1 Axes>"
            ]
          },
          "metadata": {
            "needs_background": "light"
          }
        }
      ]
    },
    {
      "cell_type": "markdown",
      "metadata": {
        "id": "5tvV6jE3ehOG"
      },
      "source": [
        "Step 7. Validate your estimate correctness of fitted distributions using at least 2 statictical tests"
      ]
    },
    {
      "cell_type": "code",
      "metadata": {
        "colab": {
          "base_uri": "https://localhost:8080/"
        },
        "id": "wL9OC-0FehOG",
        "outputId": "7e623583-9046-40fe-dccd-5fcd1680967f"
      },
      "source": [
        "x = np.linspace(np.min(umbral_magnitude), np.max(umbral_magnitude))\n",
        "params = st.gennorm.fit(umbral_magnitude)\n",
        "pdf = st.gennorm.pdf(x, *params)\n",
        "\n",
        "ks = scipy.stats.kstest(umbral_magnitude, 'gennorm', params, N=100)\n",
        "cramervonmises = st.cramervonmises(umbral_magnitude, 'gennorm', params)\n",
        "print(ks)\n",
        "print(cramervonmises)"
      ],
      "execution_count": null,
      "outputs": [
        {
          "output_type": "stream",
          "name": "stdout",
          "text": [
            "KstestResult(statistic=0.007153140894162524, pvalue=0.5651246462712604)\n",
            "CramerVonMisesResult(statistic=0.13890696071922104, pvalue=0.4252257079254228)\n"
          ]
        }
      ]
    },
    {
      "cell_type": "code",
      "metadata": {
        "id": "D8ouW7oN46g2"
      },
      "source": [
        ""
      ],
      "execution_count": null,
      "outputs": []
    }
  ]
}